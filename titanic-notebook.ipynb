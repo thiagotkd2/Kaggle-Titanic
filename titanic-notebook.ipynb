{
 "cells": [
  {
   "cell_type": "code",
   "execution_count": 1,
   "id": "69667a87",
   "metadata": {
    "_cell_guid": "b1076dfc-b9ad-4769-8c92-a6c4dae69d19",
    "_uuid": "8f2839f25d086af736a60e9eeb907d3b93b6e0e5",
    "execution": {
     "iopub.execute_input": "2025-03-10T21:21:17.013096Z",
     "iopub.status.busy": "2025-03-10T21:21:17.012740Z",
     "iopub.status.idle": "2025-03-10T21:21:19.531334Z",
     "shell.execute_reply": "2025-03-10T21:21:19.530545Z"
    },
    "papermill": {
     "duration": 2.526977,
     "end_time": "2025-03-10T21:21:19.533237",
     "exception": false,
     "start_time": "2025-03-10T21:21:17.006260",
     "status": "completed"
    },
    "tags": []
   },
   "outputs": [],
   "source": [
    "import numpy as np # linear algebra\n",
    "import pandas as pd # data processing, CSV file I/O (e.g. pd.read_csv)\n",
    "import matplotlib.pyplot as plt\n",
    "import seaborn as sns\n",
    "\n",
    "# Modelling\n",
    "from scipy.stats.contingency import association\n",
    "from sklearn.ensemble import RandomForestClassifier\n",
    "from sklearn.metrics import accuracy_score, confusion_matrix, precision_score, recall_score, ConfusionMatrixDisplay\n",
    "from sklearn.model_selection import RandomizedSearchCV, train_test_split\n",
    "from sklearn.preprocessing import OneHotEncoder\n",
    "from scipy.stats import randint\n",
    "\n",
    "# read input\n",
    "test_data = pd.read_csv(\"/kaggle/input/titanic/test.csv\")\n",
    "train_data = pd.read_csv(\"/kaggle/input/titanic/train.csv\")"
   ]
  },
  {
   "cell_type": "code",
   "execution_count": 2,
   "id": "83ca0055",
   "metadata": {
    "execution": {
     "iopub.execute_input": "2025-03-10T21:21:19.543726Z",
     "iopub.status.busy": "2025-03-10T21:21:19.543414Z",
     "iopub.status.idle": "2025-03-10T21:21:19.568595Z",
     "shell.execute_reply": "2025-03-10T21:21:19.567541Z"
    },
    "papermill": {
     "duration": 0.032648,
     "end_time": "2025-03-10T21:21:19.570834",
     "exception": false,
     "start_time": "2025-03-10T21:21:19.538186",
     "status": "completed"
    },
    "tags": []
   },
   "outputs": [
    {
     "data": {
      "text/html": [
       "<div>\n",
       "<style scoped>\n",
       "    .dataframe tbody tr th:only-of-type {\n",
       "        vertical-align: middle;\n",
       "    }\n",
       "\n",
       "    .dataframe tbody tr th {\n",
       "        vertical-align: top;\n",
       "    }\n",
       "\n",
       "    .dataframe thead th {\n",
       "        text-align: right;\n",
       "    }\n",
       "</style>\n",
       "<table border=\"1\" class=\"dataframe\">\n",
       "  <thead>\n",
       "    <tr style=\"text-align: right;\">\n",
       "      <th></th>\n",
       "      <th>PassengerId</th>\n",
       "      <th>Survived</th>\n",
       "      <th>Pclass</th>\n",
       "      <th>Name</th>\n",
       "      <th>Sex</th>\n",
       "      <th>Age</th>\n",
       "      <th>SibSp</th>\n",
       "      <th>Parch</th>\n",
       "      <th>Ticket</th>\n",
       "      <th>Fare</th>\n",
       "      <th>Cabin</th>\n",
       "      <th>Embarked</th>\n",
       "    </tr>\n",
       "  </thead>\n",
       "  <tbody>\n",
       "    <tr>\n",
       "      <th>0</th>\n",
       "      <td>1</td>\n",
       "      <td>0</td>\n",
       "      <td>3</td>\n",
       "      <td>Braund, Mr. Owen Harris</td>\n",
       "      <td>male</td>\n",
       "      <td>22.0</td>\n",
       "      <td>1</td>\n",
       "      <td>0</td>\n",
       "      <td>A/5 21171</td>\n",
       "      <td>7.2500</td>\n",
       "      <td>NaN</td>\n",
       "      <td>S</td>\n",
       "    </tr>\n",
       "    <tr>\n",
       "      <th>1</th>\n",
       "      <td>2</td>\n",
       "      <td>1</td>\n",
       "      <td>1</td>\n",
       "      <td>Cumings, Mrs. John Bradley (Florence Briggs Th...</td>\n",
       "      <td>female</td>\n",
       "      <td>38.0</td>\n",
       "      <td>1</td>\n",
       "      <td>0</td>\n",
       "      <td>PC 17599</td>\n",
       "      <td>71.2833</td>\n",
       "      <td>C85</td>\n",
       "      <td>C</td>\n",
       "    </tr>\n",
       "    <tr>\n",
       "      <th>2</th>\n",
       "      <td>3</td>\n",
       "      <td>1</td>\n",
       "      <td>3</td>\n",
       "      <td>Heikkinen, Miss. Laina</td>\n",
       "      <td>female</td>\n",
       "      <td>26.0</td>\n",
       "      <td>0</td>\n",
       "      <td>0</td>\n",
       "      <td>STON/O2. 3101282</td>\n",
       "      <td>7.9250</td>\n",
       "      <td>NaN</td>\n",
       "      <td>S</td>\n",
       "    </tr>\n",
       "    <tr>\n",
       "      <th>3</th>\n",
       "      <td>4</td>\n",
       "      <td>1</td>\n",
       "      <td>1</td>\n",
       "      <td>Futrelle, Mrs. Jacques Heath (Lily May Peel)</td>\n",
       "      <td>female</td>\n",
       "      <td>35.0</td>\n",
       "      <td>1</td>\n",
       "      <td>0</td>\n",
       "      <td>113803</td>\n",
       "      <td>53.1000</td>\n",
       "      <td>C123</td>\n",
       "      <td>S</td>\n",
       "    </tr>\n",
       "    <tr>\n",
       "      <th>4</th>\n",
       "      <td>5</td>\n",
       "      <td>0</td>\n",
       "      <td>3</td>\n",
       "      <td>Allen, Mr. William Henry</td>\n",
       "      <td>male</td>\n",
       "      <td>35.0</td>\n",
       "      <td>0</td>\n",
       "      <td>0</td>\n",
       "      <td>373450</td>\n",
       "      <td>8.0500</td>\n",
       "      <td>NaN</td>\n",
       "      <td>S</td>\n",
       "    </tr>\n",
       "    <tr>\n",
       "      <th>...</th>\n",
       "      <td>...</td>\n",
       "      <td>...</td>\n",
       "      <td>...</td>\n",
       "      <td>...</td>\n",
       "      <td>...</td>\n",
       "      <td>...</td>\n",
       "      <td>...</td>\n",
       "      <td>...</td>\n",
       "      <td>...</td>\n",
       "      <td>...</td>\n",
       "      <td>...</td>\n",
       "      <td>...</td>\n",
       "    </tr>\n",
       "    <tr>\n",
       "      <th>886</th>\n",
       "      <td>887</td>\n",
       "      <td>0</td>\n",
       "      <td>2</td>\n",
       "      <td>Montvila, Rev. Juozas</td>\n",
       "      <td>male</td>\n",
       "      <td>27.0</td>\n",
       "      <td>0</td>\n",
       "      <td>0</td>\n",
       "      <td>211536</td>\n",
       "      <td>13.0000</td>\n",
       "      <td>NaN</td>\n",
       "      <td>S</td>\n",
       "    </tr>\n",
       "    <tr>\n",
       "      <th>887</th>\n",
       "      <td>888</td>\n",
       "      <td>1</td>\n",
       "      <td>1</td>\n",
       "      <td>Graham, Miss. Margaret Edith</td>\n",
       "      <td>female</td>\n",
       "      <td>19.0</td>\n",
       "      <td>0</td>\n",
       "      <td>0</td>\n",
       "      <td>112053</td>\n",
       "      <td>30.0000</td>\n",
       "      <td>B42</td>\n",
       "      <td>S</td>\n",
       "    </tr>\n",
       "    <tr>\n",
       "      <th>888</th>\n",
       "      <td>889</td>\n",
       "      <td>0</td>\n",
       "      <td>3</td>\n",
       "      <td>Johnston, Miss. Catherine Helen \"Carrie\"</td>\n",
       "      <td>female</td>\n",
       "      <td>NaN</td>\n",
       "      <td>1</td>\n",
       "      <td>2</td>\n",
       "      <td>W./C. 6607</td>\n",
       "      <td>23.4500</td>\n",
       "      <td>NaN</td>\n",
       "      <td>S</td>\n",
       "    </tr>\n",
       "    <tr>\n",
       "      <th>889</th>\n",
       "      <td>890</td>\n",
       "      <td>1</td>\n",
       "      <td>1</td>\n",
       "      <td>Behr, Mr. Karl Howell</td>\n",
       "      <td>male</td>\n",
       "      <td>26.0</td>\n",
       "      <td>0</td>\n",
       "      <td>0</td>\n",
       "      <td>111369</td>\n",
       "      <td>30.0000</td>\n",
       "      <td>C148</td>\n",
       "      <td>C</td>\n",
       "    </tr>\n",
       "    <tr>\n",
       "      <th>890</th>\n",
       "      <td>891</td>\n",
       "      <td>0</td>\n",
       "      <td>3</td>\n",
       "      <td>Dooley, Mr. Patrick</td>\n",
       "      <td>male</td>\n",
       "      <td>32.0</td>\n",
       "      <td>0</td>\n",
       "      <td>0</td>\n",
       "      <td>370376</td>\n",
       "      <td>7.7500</td>\n",
       "      <td>NaN</td>\n",
       "      <td>Q</td>\n",
       "    </tr>\n",
       "  </tbody>\n",
       "</table>\n",
       "<p>891 rows × 12 columns</p>\n",
       "</div>"
      ],
      "text/plain": [
       "     PassengerId  Survived  Pclass  \\\n",
       "0              1         0       3   \n",
       "1              2         1       1   \n",
       "2              3         1       3   \n",
       "3              4         1       1   \n",
       "4              5         0       3   \n",
       "..           ...       ...     ...   \n",
       "886          887         0       2   \n",
       "887          888         1       1   \n",
       "888          889         0       3   \n",
       "889          890         1       1   \n",
       "890          891         0       3   \n",
       "\n",
       "                                                  Name     Sex   Age  SibSp  \\\n",
       "0                              Braund, Mr. Owen Harris    male  22.0      1   \n",
       "1    Cumings, Mrs. John Bradley (Florence Briggs Th...  female  38.0      1   \n",
       "2                               Heikkinen, Miss. Laina  female  26.0      0   \n",
       "3         Futrelle, Mrs. Jacques Heath (Lily May Peel)  female  35.0      1   \n",
       "4                             Allen, Mr. William Henry    male  35.0      0   \n",
       "..                                                 ...     ...   ...    ...   \n",
       "886                              Montvila, Rev. Juozas    male  27.0      0   \n",
       "887                       Graham, Miss. Margaret Edith  female  19.0      0   \n",
       "888           Johnston, Miss. Catherine Helen \"Carrie\"  female   NaN      1   \n",
       "889                              Behr, Mr. Karl Howell    male  26.0      0   \n",
       "890                                Dooley, Mr. Patrick    male  32.0      0   \n",
       "\n",
       "     Parch            Ticket     Fare Cabin Embarked  \n",
       "0        0         A/5 21171   7.2500   NaN        S  \n",
       "1        0          PC 17599  71.2833   C85        C  \n",
       "2        0  STON/O2. 3101282   7.9250   NaN        S  \n",
       "3        0            113803  53.1000  C123        S  \n",
       "4        0            373450   8.0500   NaN        S  \n",
       "..     ...               ...      ...   ...      ...  \n",
       "886      0            211536  13.0000   NaN        S  \n",
       "887      0            112053  30.0000   B42        S  \n",
       "888      2        W./C. 6607  23.4500   NaN        S  \n",
       "889      0            111369  30.0000  C148        C  \n",
       "890      0            370376   7.7500   NaN        Q  \n",
       "\n",
       "[891 rows x 12 columns]"
      ]
     },
     "execution_count": 2,
     "metadata": {},
     "output_type": "execute_result"
    }
   ],
   "source": [
    "train_data"
   ]
  },
  {
   "cell_type": "code",
   "execution_count": 3,
   "id": "4326f733",
   "metadata": {
    "execution": {
     "iopub.execute_input": "2025-03-10T21:21:19.582142Z",
     "iopub.status.busy": "2025-03-10T21:21:19.581725Z",
     "iopub.status.idle": "2025-03-10T21:21:19.587618Z",
     "shell.execute_reply": "2025-03-10T21:21:19.586744Z"
    },
    "papermill": {
     "duration": 0.013212,
     "end_time": "2025-03-10T21:21:19.589159",
     "exception": false,
     "start_time": "2025-03-10T21:21:19.575947",
     "status": "completed"
    },
    "tags": []
   },
   "outputs": [
    {
     "data": {
      "text/plain": [
       "(891, 12)"
      ]
     },
     "execution_count": 3,
     "metadata": {},
     "output_type": "execute_result"
    }
   ],
   "source": [
    "train_data.shape"
   ]
  },
  {
   "cell_type": "code",
   "execution_count": 4,
   "id": "5922d876",
   "metadata": {
    "execution": {
     "iopub.execute_input": "2025-03-10T21:21:19.600263Z",
     "iopub.status.busy": "2025-03-10T21:21:19.599924Z",
     "iopub.status.idle": "2025-03-10T21:21:19.611306Z",
     "shell.execute_reply": "2025-03-10T21:21:19.610546Z"
    },
    "papermill": {
     "duration": 0.018927,
     "end_time": "2025-03-10T21:21:19.613155",
     "exception": false,
     "start_time": "2025-03-10T21:21:19.594228",
     "status": "completed"
    },
    "tags": []
   },
   "outputs": [
    {
     "data": {
      "text/html": [
       "<div>\n",
       "<style scoped>\n",
       "    .dataframe tbody tr th:only-of-type {\n",
       "        vertical-align: middle;\n",
       "    }\n",
       "\n",
       "    .dataframe tbody tr th {\n",
       "        vertical-align: top;\n",
       "    }\n",
       "\n",
       "    .dataframe thead th {\n",
       "        text-align: right;\n",
       "    }\n",
       "</style>\n",
       "<table border=\"1\" class=\"dataframe\">\n",
       "  <thead>\n",
       "    <tr style=\"text-align: right;\">\n",
       "      <th></th>\n",
       "      <th>PassengerId</th>\n",
       "      <th>Survived</th>\n",
       "      <th>Pclass</th>\n",
       "      <th>Name</th>\n",
       "      <th>Sex</th>\n",
       "      <th>Age</th>\n",
       "      <th>SibSp</th>\n",
       "      <th>Parch</th>\n",
       "      <th>Ticket</th>\n",
       "      <th>Fare</th>\n",
       "      <th>Cabin</th>\n",
       "      <th>Embarked</th>\n",
       "    </tr>\n",
       "  </thead>\n",
       "  <tbody>\n",
       "    <tr>\n",
       "      <th>0</th>\n",
       "      <td>1</td>\n",
       "      <td>0</td>\n",
       "      <td>3</td>\n",
       "      <td>Braund, Mr. Owen Harris</td>\n",
       "      <td>male</td>\n",
       "      <td>22.0</td>\n",
       "      <td>1</td>\n",
       "      <td>0</td>\n",
       "      <td>A/5 21171</td>\n",
       "      <td>7.2500</td>\n",
       "      <td>NaN</td>\n",
       "      <td>S</td>\n",
       "    </tr>\n",
       "    <tr>\n",
       "      <th>1</th>\n",
       "      <td>2</td>\n",
       "      <td>1</td>\n",
       "      <td>1</td>\n",
       "      <td>Cumings, Mrs. John Bradley (Florence Briggs Th...</td>\n",
       "      <td>female</td>\n",
       "      <td>38.0</td>\n",
       "      <td>1</td>\n",
       "      <td>0</td>\n",
       "      <td>PC 17599</td>\n",
       "      <td>71.2833</td>\n",
       "      <td>C85</td>\n",
       "      <td>C</td>\n",
       "    </tr>\n",
       "    <tr>\n",
       "      <th>2</th>\n",
       "      <td>3</td>\n",
       "      <td>1</td>\n",
       "      <td>3</td>\n",
       "      <td>Heikkinen, Miss. Laina</td>\n",
       "      <td>female</td>\n",
       "      <td>26.0</td>\n",
       "      <td>0</td>\n",
       "      <td>0</td>\n",
       "      <td>STON/O2. 3101282</td>\n",
       "      <td>7.9250</td>\n",
       "      <td>NaN</td>\n",
       "      <td>S</td>\n",
       "    </tr>\n",
       "    <tr>\n",
       "      <th>3</th>\n",
       "      <td>4</td>\n",
       "      <td>1</td>\n",
       "      <td>1</td>\n",
       "      <td>Futrelle, Mrs. Jacques Heath (Lily May Peel)</td>\n",
       "      <td>female</td>\n",
       "      <td>35.0</td>\n",
       "      <td>1</td>\n",
       "      <td>0</td>\n",
       "      <td>113803</td>\n",
       "      <td>53.1000</td>\n",
       "      <td>C123</td>\n",
       "      <td>S</td>\n",
       "    </tr>\n",
       "    <tr>\n",
       "      <th>4</th>\n",
       "      <td>5</td>\n",
       "      <td>0</td>\n",
       "      <td>3</td>\n",
       "      <td>Allen, Mr. William Henry</td>\n",
       "      <td>male</td>\n",
       "      <td>35.0</td>\n",
       "      <td>0</td>\n",
       "      <td>0</td>\n",
       "      <td>373450</td>\n",
       "      <td>8.0500</td>\n",
       "      <td>NaN</td>\n",
       "      <td>S</td>\n",
       "    </tr>\n",
       "  </tbody>\n",
       "</table>\n",
       "</div>"
      ],
      "text/plain": [
       "   PassengerId  Survived  Pclass  \\\n",
       "0            1         0       3   \n",
       "1            2         1       1   \n",
       "2            3         1       3   \n",
       "3            4         1       1   \n",
       "4            5         0       3   \n",
       "\n",
       "                                                Name     Sex   Age  SibSp  \\\n",
       "0                            Braund, Mr. Owen Harris    male  22.0      1   \n",
       "1  Cumings, Mrs. John Bradley (Florence Briggs Th...  female  38.0      1   \n",
       "2                             Heikkinen, Miss. Laina  female  26.0      0   \n",
       "3       Futrelle, Mrs. Jacques Heath (Lily May Peel)  female  35.0      1   \n",
       "4                           Allen, Mr. William Henry    male  35.0      0   \n",
       "\n",
       "   Parch            Ticket     Fare Cabin Embarked  \n",
       "0      0         A/5 21171   7.2500   NaN        S  \n",
       "1      0          PC 17599  71.2833   C85        C  \n",
       "2      0  STON/O2. 3101282   7.9250   NaN        S  \n",
       "3      0            113803  53.1000  C123        S  \n",
       "4      0            373450   8.0500   NaN        S  "
      ]
     },
     "execution_count": 4,
     "metadata": {},
     "output_type": "execute_result"
    }
   ],
   "source": [
    "train_data.head(5)"
   ]
  },
  {
   "cell_type": "markdown",
   "id": "a6bfe2f0",
   "metadata": {
    "papermill": {
     "duration": 0.00462,
     "end_time": "2025-03-10T21:21:19.624200",
     "exception": false,
     "start_time": "2025-03-10T21:21:19.619580",
     "status": "completed"
    },
    "tags": []
   },
   "source": [
    "Verify null values"
   ]
  },
  {
   "cell_type": "code",
   "execution_count": 5,
   "id": "df8f0674",
   "metadata": {
    "execution": {
     "iopub.execute_input": "2025-03-10T21:21:19.634985Z",
     "iopub.status.busy": "2025-03-10T21:21:19.634613Z",
     "iopub.status.idle": "2025-03-10T21:21:19.643192Z",
     "shell.execute_reply": "2025-03-10T21:21:19.642435Z"
    },
    "papermill": {
     "duration": 0.015737,
     "end_time": "2025-03-10T21:21:19.644672",
     "exception": false,
     "start_time": "2025-03-10T21:21:19.628935",
     "status": "completed"
    },
    "tags": []
   },
   "outputs": [
    {
     "data": {
      "text/plain": [
       "PassengerId      0\n",
       "Survived         0\n",
       "Pclass           0\n",
       "Name             0\n",
       "Sex              0\n",
       "Age            177\n",
       "SibSp            0\n",
       "Parch            0\n",
       "Ticket           0\n",
       "Fare             0\n",
       "Cabin          687\n",
       "Embarked         2\n",
       "dtype: int64"
      ]
     },
     "execution_count": 5,
     "metadata": {},
     "output_type": "execute_result"
    }
   ],
   "source": [
    "train_data.isna().sum()"
   ]
  },
  {
   "cell_type": "markdown",
   "id": "bf1369c7",
   "metadata": {
    "papermill": {
     "duration": 0.004665,
     "end_time": "2025-03-10T21:21:19.654632",
     "exception": false,
     "start_time": "2025-03-10T21:21:19.649967",
     "status": "completed"
    },
    "tags": []
   },
   "source": [
    "the shape is (891, 12)\n",
    "\n",
    "and we have 687 na values in Cabin column\n",
    "\n",
    "77% of values are NA\n",
    "\n",
    "maybe its a good idea to discard this column"
   ]
  },
  {
   "cell_type": "code",
   "execution_count": 6,
   "id": "a8e248fc",
   "metadata": {
    "execution": {
     "iopub.execute_input": "2025-03-10T21:21:19.665670Z",
     "iopub.status.busy": "2025-03-10T21:21:19.665379Z",
     "iopub.status.idle": "2025-03-10T21:21:19.670313Z",
     "shell.execute_reply": "2025-03-10T21:21:19.669649Z"
    },
    "papermill": {
     "duration": 0.012006,
     "end_time": "2025-03-10T21:21:19.671590",
     "exception": false,
     "start_time": "2025-03-10T21:21:19.659584",
     "status": "completed"
    },
    "tags": []
   },
   "outputs": [
    {
     "data": {
      "text/plain": [
       "Index(['PassengerId', 'Survived', 'Pclass', 'Name', 'Sex', 'Age', 'SibSp',\n",
       "       'Parch', 'Ticket', 'Fare', 'Cabin', 'Embarked'],\n",
       "      dtype='object')"
      ]
     },
     "execution_count": 6,
     "metadata": {},
     "output_type": "execute_result"
    }
   ],
   "source": [
    "train_data.columns"
   ]
  },
  {
   "cell_type": "code",
   "execution_count": 7,
   "id": "fe1e2ed2",
   "metadata": {
    "execution": {
     "iopub.execute_input": "2025-03-10T21:21:19.682251Z",
     "iopub.status.busy": "2025-03-10T21:21:19.682003Z",
     "iopub.status.idle": "2025-03-10T21:21:19.688119Z",
     "shell.execute_reply": "2025-03-10T21:21:19.687448Z"
    },
    "papermill": {
     "duration": 0.01329,
     "end_time": "2025-03-10T21:21:19.689755",
     "exception": false,
     "start_time": "2025-03-10T21:21:19.676465",
     "status": "completed"
    },
    "tags": []
   },
   "outputs": [
    {
     "data": {
      "text/plain": [
       "PassengerId      int64\n",
       "Survived         int64\n",
       "Pclass           int64\n",
       "Name            object\n",
       "Sex             object\n",
       "Age            float64\n",
       "SibSp            int64\n",
       "Parch            int64\n",
       "Ticket          object\n",
       "Fare           float64\n",
       "Cabin           object\n",
       "Embarked        object\n",
       "dtype: object"
      ]
     },
     "execution_count": 7,
     "metadata": {},
     "output_type": "execute_result"
    }
   ],
   "source": [
    "train_data.dtypes"
   ]
  },
  {
   "cell_type": "code",
   "execution_count": 8,
   "id": "f48adedd",
   "metadata": {
    "execution": {
     "iopub.execute_input": "2025-03-10T21:21:19.701167Z",
     "iopub.status.busy": "2025-03-10T21:21:19.700895Z",
     "iopub.status.idle": "2025-03-10T21:21:19.710113Z",
     "shell.execute_reply": "2025-03-10T21:21:19.709422Z"
    },
    "papermill": {
     "duration": 0.01663,
     "end_time": "2025-03-10T21:21:19.711546",
     "exception": false,
     "start_time": "2025-03-10T21:21:19.694916",
     "status": "completed"
    },
    "tags": []
   },
   "outputs": [
    {
     "data": {
      "text/plain": [
       "<bound method NDFrame.describe of      PassengerId  Survived  Pclass  \\\n",
       "0              1         0       3   \n",
       "1              2         1       1   \n",
       "2              3         1       3   \n",
       "3              4         1       1   \n",
       "4              5         0       3   \n",
       "..           ...       ...     ...   \n",
       "886          887         0       2   \n",
       "887          888         1       1   \n",
       "888          889         0       3   \n",
       "889          890         1       1   \n",
       "890          891         0       3   \n",
       "\n",
       "                                                  Name     Sex   Age  SibSp  \\\n",
       "0                              Braund, Mr. Owen Harris    male  22.0      1   \n",
       "1    Cumings, Mrs. John Bradley (Florence Briggs Th...  female  38.0      1   \n",
       "2                               Heikkinen, Miss. Laina  female  26.0      0   \n",
       "3         Futrelle, Mrs. Jacques Heath (Lily May Peel)  female  35.0      1   \n",
       "4                             Allen, Mr. William Henry    male  35.0      0   \n",
       "..                                                 ...     ...   ...    ...   \n",
       "886                              Montvila, Rev. Juozas    male  27.0      0   \n",
       "887                       Graham, Miss. Margaret Edith  female  19.0      0   \n",
       "888           Johnston, Miss. Catherine Helen \"Carrie\"  female   NaN      1   \n",
       "889                              Behr, Mr. Karl Howell    male  26.0      0   \n",
       "890                                Dooley, Mr. Patrick    male  32.0      0   \n",
       "\n",
       "     Parch            Ticket     Fare Cabin Embarked  \n",
       "0        0         A/5 21171   7.2500   NaN        S  \n",
       "1        0          PC 17599  71.2833   C85        C  \n",
       "2        0  STON/O2. 3101282   7.9250   NaN        S  \n",
       "3        0            113803  53.1000  C123        S  \n",
       "4        0            373450   8.0500   NaN        S  \n",
       "..     ...               ...      ...   ...      ...  \n",
       "886      0            211536  13.0000   NaN        S  \n",
       "887      0            112053  30.0000   B42        S  \n",
       "888      2        W./C. 6607  23.4500   NaN        S  \n",
       "889      0            111369  30.0000  C148        C  \n",
       "890      0            370376   7.7500   NaN        Q  \n",
       "\n",
       "[891 rows x 12 columns]>"
      ]
     },
     "execution_count": 8,
     "metadata": {},
     "output_type": "execute_result"
    }
   ],
   "source": [
    "train_data.describe"
   ]
  },
  {
   "cell_type": "code",
   "execution_count": 9,
   "id": "78d11109",
   "metadata": {
    "execution": {
     "iopub.execute_input": "2025-03-10T21:21:19.722668Z",
     "iopub.status.busy": "2025-03-10T21:21:19.722417Z",
     "iopub.status.idle": "2025-03-10T21:21:19.729414Z",
     "shell.execute_reply": "2025-03-10T21:21:19.728459Z"
    },
    "papermill": {
     "duration": 0.014249,
     "end_time": "2025-03-10T21:21:19.731126",
     "exception": false,
     "start_time": "2025-03-10T21:21:19.716877",
     "status": "completed"
    },
    "tags": []
   },
   "outputs": [
    {
     "data": {
      "text/plain": [
       "PassengerId      0\n",
       "Survived         0\n",
       "Pclass           0\n",
       "Name             0\n",
       "Sex              0\n",
       "Age            177\n",
       "SibSp            0\n",
       "Parch            0\n",
       "Ticket           0\n",
       "Fare             0\n",
       "Cabin          687\n",
       "Embarked         2\n",
       "dtype: int64"
      ]
     },
     "execution_count": 9,
     "metadata": {},
     "output_type": "execute_result"
    }
   ],
   "source": [
    "train_data.isna().sum()"
   ]
  },
  {
   "cell_type": "code",
   "execution_count": 10,
   "id": "fb53dbe8",
   "metadata": {
    "execution": {
     "iopub.execute_input": "2025-03-10T21:21:19.743711Z",
     "iopub.status.busy": "2025-03-10T21:21:19.743364Z",
     "iopub.status.idle": "2025-03-10T21:21:19.750629Z",
     "shell.execute_reply": "2025-03-10T21:21:19.749682Z"
    },
    "papermill": {
     "duration": 0.015339,
     "end_time": "2025-03-10T21:21:19.752274",
     "exception": false,
     "start_time": "2025-03-10T21:21:19.736935",
     "status": "completed"
    },
    "tags": []
   },
   "outputs": [],
   "source": [
    "train_data= train_data[[#'PassengerId', \n",
    "    'Survived', 'Pclass', #'Name', \n",
    "    'Sex', 'Age', 'SibSp',\n",
    "       'Parch', #'Ticket', \n",
    "    'Fare', #'Cabin', \n",
    "    'Embarked']]"
   ]
  },
  {
   "cell_type": "code",
   "execution_count": 11,
   "id": "fc12a017",
   "metadata": {
    "execution": {
     "iopub.execute_input": "2025-03-10T21:21:19.764649Z",
     "iopub.status.busy": "2025-03-10T21:21:19.764304Z",
     "iopub.status.idle": "2025-03-10T21:21:19.770197Z",
     "shell.execute_reply": "2025-03-10T21:21:19.769192Z"
    },
    "papermill": {
     "duration": 0.01398,
     "end_time": "2025-03-10T21:21:19.771904",
     "exception": false,
     "start_time": "2025-03-10T21:21:19.757924",
     "status": "completed"
    },
    "tags": []
   },
   "outputs": [
    {
     "name": "stderr",
     "output_type": "stream",
     "text": [
      "/tmp/ipykernel_17/3342620763.py:1: FutureWarning: A value is trying to be set on a copy of a DataFrame or Series through chained assignment using an inplace method.\n",
      "The behavior will change in pandas 3.0. This inplace method will never work because the intermediate object on which we are setting values always behaves as a copy.\n",
      "\n",
      "For example, when doing 'df[col].method(value, inplace=True)', try using 'df.method({col: value}, inplace=True)' or df[col] = df[col].method(value) instead, to perform the operation inplace on the original object.\n",
      "\n",
      "\n",
      "  train_data['Embarked'].fillna('S', inplace=True)\n",
      "/tmp/ipykernel_17/3342620763.py:1: SettingWithCopyWarning: \n",
      "A value is trying to be set on a copy of a slice from a DataFrame\n",
      "\n",
      "See the caveats in the documentation: https://pandas.pydata.org/pandas-docs/stable/user_guide/indexing.html#returning-a-view-versus-a-copy\n",
      "  train_data['Embarked'].fillna('S', inplace=True)\n"
     ]
    }
   ],
   "source": [
    "train_data['Embarked'].fillna('S', inplace=True)"
   ]
  },
  {
   "cell_type": "code",
   "execution_count": 12,
   "id": "af5fa5e9",
   "metadata": {
    "execution": {
     "iopub.execute_input": "2025-03-10T21:21:19.784514Z",
     "iopub.status.busy": "2025-03-10T21:21:19.783676Z",
     "iopub.status.idle": "2025-03-10T21:21:19.787471Z",
     "shell.execute_reply": "2025-03-10T21:21:19.786628Z"
    },
    "papermill": {
     "duration": 0.011452,
     "end_time": "2025-03-10T21:21:19.789018",
     "exception": false,
     "start_time": "2025-03-10T21:21:19.777566",
     "status": "completed"
    },
    "tags": []
   },
   "outputs": [],
   "source": [
    "#test_data.isna().sum()\n",
    "#test_data['Ticket'].fillna(0, inplace=True)\n",
    "#test_data.dropna(subset=['Cabin', 'Age'])"
   ]
  },
  {
   "cell_type": "code",
   "execution_count": 13,
   "id": "7e4a0265",
   "metadata": {
    "execution": {
     "iopub.execute_input": "2025-03-10T21:21:19.801377Z",
     "iopub.status.busy": "2025-03-10T21:21:19.801094Z",
     "iopub.status.idle": "2025-03-10T21:21:19.816505Z",
     "shell.execute_reply": "2025-03-10T21:21:19.815827Z"
    },
    "papermill": {
     "duration": 0.023352,
     "end_time": "2025-03-10T21:21:19.818016",
     "exception": false,
     "start_time": "2025-03-10T21:21:19.794664",
     "status": "completed"
    },
    "tags": []
   },
   "outputs": [],
   "source": [
    "train_data=pd.get_dummies(train_data, columns = ['Sex'], drop_first=True)\n",
    "test_data=pd.get_dummies(test_data, columns = ['Sex'], drop_first=True)\n",
    "train_data=pd.get_dummies(train_data, columns = ['Embarked'], drop_first=False)\n",
    "test_data=pd.get_dummies(test_data, columns = ['Embarked'], drop_first=False)\n",
    "\n"
   ]
  },
  {
   "cell_type": "code",
   "execution_count": 14,
   "id": "7e40f90c",
   "metadata": {
    "execution": {
     "iopub.execute_input": "2025-03-10T21:21:19.830040Z",
     "iopub.status.busy": "2025-03-10T21:21:19.829718Z",
     "iopub.status.idle": "2025-03-10T21:21:19.839479Z",
     "shell.execute_reply": "2025-03-10T21:21:19.838555Z"
    },
    "papermill": {
     "duration": 0.017458,
     "end_time": "2025-03-10T21:21:19.840927",
     "exception": false,
     "start_time": "2025-03-10T21:21:19.823469",
     "status": "completed"
    },
    "tags": []
   },
   "outputs": [
    {
     "name": "stdout",
     "output_type": "stream",
     "text": [
      "29.69911764705882\n",
      "14.526497332334042\n",
      "28.0\n",
      "0    24.0\n",
      "Name: Age, dtype: float64\n"
     ]
    }
   ],
   "source": [
    "print(train_data['Age'].mean())\n",
    "print(train_data['Age'].std())\n",
    "print(train_data['Age'].median())\n",
    "print(train_data['Age'].mode())\n"
   ]
  },
  {
   "cell_type": "code",
   "execution_count": 15,
   "id": "83493ef2",
   "metadata": {
    "execution": {
     "iopub.execute_input": "2025-03-10T21:21:19.852946Z",
     "iopub.status.busy": "2025-03-10T21:21:19.852526Z",
     "iopub.status.idle": "2025-03-10T21:21:20.143942Z",
     "shell.execute_reply": "2025-03-10T21:21:20.143018Z"
    },
    "papermill": {
     "duration": 0.299266,
     "end_time": "2025-03-10T21:21:20.145588",
     "exception": false,
     "start_time": "2025-03-10T21:21:19.846322",
     "status": "completed"
    },
    "tags": []
   },
   "outputs": [
    {
     "name": "stderr",
     "output_type": "stream",
     "text": [
      "/opt/conda/lib/python3.10/site-packages/seaborn/_oldcore.py:1119: FutureWarning: use_inf_as_na option is deprecated and will be removed in a future version. Convert inf values to NaN before operating instead.\n",
      "  with pd.option_context('mode.use_inf_as_na', True):\n"
     ]
    },
    {
     "name": "stdout",
     "output_type": "stream",
     "text": [
      "0      22.0\n",
      "1      38.0\n",
      "2      26.0\n",
      "3      35.0\n",
      "4      35.0\n",
      "       ... \n",
      "886    27.0\n",
      "887    19.0\n",
      "888     NaN\n",
      "889    26.0\n",
      "890    32.0\n",
      "Name: Age, Length: 891, dtype: float64\n"
     ]
    },
    {
     "data": {
      "image/png": "[encoded data removed]",
      "text/plain": [
       "<Figure size 1500x500 with 1 Axes>"
      ]
     },
     "metadata": {},
     "output_type": "display_data"
    }
   ],
   "source": [
    "age = train_data['Age']\n",
    "print(age)\n",
    "\n",
    "plt.figure(figsize=(15, 5))\n",
    "sns.histplot(age, bins=8, kde=True, color='blue', edgecolor='black')\n",
    "plt.title('Age Distribution')\n",
    "plt.xlabel('Age')\n",
    "plt.ylabel('Frequency')\n",
    "plt.grid(True)\n",
    "plt.show()"
   ]
  },
  {
   "cell_type": "code",
   "execution_count": 16,
   "id": "83e48a1f",
   "metadata": {
    "execution": {
     "iopub.execute_input": "2025-03-10T21:21:20.158975Z",
     "iopub.status.busy": "2025-03-10T21:21:20.158631Z",
     "iopub.status.idle": "2025-03-10T21:21:20.162488Z",
     "shell.execute_reply": "2025-03-10T21:21:20.161652Z"
    },
    "papermill": {
     "duration": 0.012075,
     "end_time": "2025-03-10T21:21:20.163985",
     "exception": false,
     "start_time": "2025-03-10T21:21:20.151910",
     "status": "completed"
    },
    "tags": []
   },
   "outputs": [],
   "source": [
    "#train_data['Age'].fillna(train_data['Age'].mean(), inplace=True)\n",
    "#train_data"
   ]
  },
  {
   "cell_type": "code",
   "execution_count": 17,
   "id": "8c3242a2",
   "metadata": {
    "execution": {
     "iopub.execute_input": "2025-03-10T21:21:20.177177Z",
     "iopub.status.busy": "2025-03-10T21:21:20.176583Z",
     "iopub.status.idle": "2025-03-10T21:21:20.270372Z",
     "shell.execute_reply": "2025-03-10T21:21:20.269331Z"
    },
    "papermill": {
     "duration": 0.101968,
     "end_time": "2025-03-10T21:21:20.272056",
     "exception": false,
     "start_time": "2025-03-10T21:21:20.170088",
     "status": "completed"
    },
    "tags": []
   },
   "outputs": [
    {
     "name": "stdout",
     "output_type": "stream",
     "text": [
      "[577]\n"
     ]
    },
    {
     "data": {
      "image/png": "[encoded data removed]",
      "text/plain": [
       "<Figure size 800x600 with 1 Axes>"
      ]
     },
     "metadata": {},
     "output_type": "display_data"
    }
   ],
   "source": [
    "sex = train_data['Sex_male']\n",
    "print([sex[sex==True].count()])\n",
    "plt.figure(figsize=(8, 6))\n",
    "plt.pie([sex[sex==True].count(), sex[sex==False].count()], labels=['Male','Female'], autopct='%1.2f%%', colors=['blue', 'orange'])\n",
    "plt.title('Male x Female in Titanic')\n",
    "plt.show()"
   ]
  },
  {
   "cell_type": "code",
   "execution_count": 18,
   "id": "01edd0e4",
   "metadata": {
    "execution": {
     "iopub.execute_input": "2025-03-10T21:21:20.286609Z",
     "iopub.status.busy": "2025-03-10T21:21:20.286274Z",
     "iopub.status.idle": "2025-03-10T21:21:20.366831Z",
     "shell.execute_reply": "2025-03-10T21:21:20.366089Z"
    },
    "papermill": {
     "duration": 0.089823,
     "end_time": "2025-03-10T21:21:20.368488",
     "exception": false,
     "start_time": "2025-03-10T21:21:20.278665",
     "status": "completed"
    },
    "tags": []
   },
   "outputs": [
    {
     "name": "stdout",
     "output_type": "stream",
     "text": [
      "Survived\n",
      "0    549\n",
      "1    342\n",
      "Name: count, dtype: int64\n"
     ]
    },
    {
     "data": {
      "image/png": "[encoded data removed]",
      "text/plain": [
       "<Figure size 800x600 with 1 Axes>"
      ]
     },
     "metadata": {},
     "output_type": "display_data"
    }
   ],
   "source": [
    "survival = train_data['Survived']\n",
    "print(train_data['Survived'].value_counts()) # try pie\n",
    "\n",
    "plt.figure(figsize=(8,6))\n",
    "plt.pie([survival[survival==1].count(), survival[survival==0].count()], labels=['Survived', 'Deceased'], autopct='%1.2f%%', colors = ['blue', 'orange'])\n",
    "plt.title('Survival tax')\n",
    "plt.show()"
   ]
  },
  {
   "cell_type": "code",
   "execution_count": 19,
   "id": "936234aa",
   "metadata": {
    "execution": {
     "iopub.execute_input": "2025-03-10T21:21:20.383391Z",
     "iopub.status.busy": "2025-03-10T21:21:20.383084Z",
     "iopub.status.idle": "2025-03-10T21:21:20.479404Z",
     "shell.execute_reply": "2025-03-10T21:21:20.478706Z"
    },
    "papermill": {
     "duration": 0.105696,
     "end_time": "2025-03-10T21:21:20.480870",
     "exception": false,
     "start_time": "2025-03-10T21:21:20.375174",
     "status": "completed"
    },
    "tags": []
   },
   "outputs": [
    {
     "name": "stdout",
     "output_type": "stream",
     "text": [
      "891\n"
     ]
    },
    {
     "data": {
      "image/png": "[encoded data removed]",
      "text/plain": [
       "<Figure size 1000x600 with 1 Axes>"
      ]
     },
     "metadata": {},
     "output_type": "display_data"
    }
   ],
   "source": [
    "survival = train_data['Survived']\n",
    "sex_male_survived=len(train_data.loc[(train_data['Sex_male']==True) & (train_data['Survived']==1)])\n",
    "sex_female_deceased=len(train_data.loc[(train_data['Sex_male']==False) & (train_data['Survived']==0)]) \n",
    "sex_female_survived=len(train_data.loc[(train_data['Sex_male']==False) & (train_data['Survived']==1)])\n",
    "sex_male_deceased = len(train_data.loc[(train_data['Sex_male']==True) & (train_data['Survived']==0)]) \n",
    "print(sex_male_survived+sex_female_deceased+sex_female_survived+sex_male_deceased)\n",
    "\n",
    "\n",
    "plt.figure(figsize=(10,6))\n",
    "plt.pie([sex_male_survived, sex_female_deceased, sex_female_survived, sex_male_deceased],\n",
    "        labels=['Survived Males', 'Deceased Females', 'Survived Females', 'Deceased Males'],\n",
    "        autopct='%1.2f%%', colors = ['blue', 'orange', 'green', 'yellow'])\n",
    "plt.title('Titanic distribution of passengers')\n",
    "plt.show()"
   ]
  },
  {
   "cell_type": "code",
   "execution_count": 20,
   "id": "dab25bee",
   "metadata": {
    "execution": {
     "iopub.execute_input": "2025-03-10T21:21:20.495371Z",
     "iopub.status.busy": "2025-03-10T21:21:20.495088Z",
     "iopub.status.idle": "2025-03-10T21:21:20.633201Z",
     "shell.execute_reply": "2025-03-10T21:21:20.632457Z"
    },
    "papermill": {
     "duration": 0.147938,
     "end_time": "2025-03-10T21:21:20.635622",
     "exception": false,
     "start_time": "2025-03-10T21:21:20.487684",
     "status": "completed"
    },
    "tags": []
   },
   "outputs": [
    {
     "data": {
      "image/png": "[encoded data removed]",
      "text/plain": [
       "<Figure size 640x480 with 1 Axes>"
      ]
     },
     "metadata": {},
     "output_type": "display_data"
    }
   ],
   "source": [
    "sibsp = train_data['SibSp'].value_counts().plot(kind='bar')"
   ]
  },
  {
   "cell_type": "code",
   "execution_count": 21,
   "id": "0ac155de",
   "metadata": {
    "execution": {
     "iopub.execute_input": "2025-03-10T21:21:20.653769Z",
     "iopub.status.busy": "2025-03-10T21:21:20.653475Z",
     "iopub.status.idle": "2025-03-10T21:21:20.785703Z",
     "shell.execute_reply": "2025-03-10T21:21:20.784909Z"
    },
    "papermill": {
     "duration": 0.142712,
     "end_time": "2025-03-10T21:21:20.787324",
     "exception": false,
     "start_time": "2025-03-10T21:21:20.644612",
     "status": "completed"
    },
    "tags": []
   },
   "outputs": [
    {
     "data": {
      "image/png": "[encoded data removed]",
      "text/plain": [
       "<Figure size 640x480 with 1 Axes>"
      ]
     },
     "metadata": {},
     "output_type": "display_data"
    }
   ],
   "source": [
    "parch = train_data['Parch'].value_counts().plot(kind='bar')"
   ]
  },
  {
   "cell_type": "code",
   "execution_count": 22,
   "id": "e2da2d1d",
   "metadata": {
    "execution": {
     "iopub.execute_input": "2025-03-10T21:21:20.803722Z",
     "iopub.status.busy": "2025-03-10T21:21:20.803423Z",
     "iopub.status.idle": "2025-03-10T21:21:20.969522Z",
     "shell.execute_reply": "2025-03-10T21:21:20.968839Z"
    },
    "papermill": {
     "duration": 0.175807,
     "end_time": "2025-03-10T21:21:20.970884",
     "exception": false,
     "start_time": "2025-03-10T21:21:20.795077",
     "status": "completed"
    },
    "tags": []
   },
   "outputs": [
    {
     "data": {
      "image/png": "[encoded data removed]",
      "text/plain": [
       "<Figure size 640x480 with 1 Axes>"
      ]
     },
     "metadata": {},
     "output_type": "display_data"
    }
   ],
   "source": [
    "passenger_fare = train_data['Fare'].value_counts().head(10).plot(kind='bar')"
   ]
  },
  {
   "cell_type": "code",
   "execution_count": 23,
   "id": "ae41f316",
   "metadata": {
    "execution": {
     "iopub.execute_input": "2025-03-10T21:21:20.988817Z",
     "iopub.status.busy": "2025-03-10T21:21:20.988438Z",
     "iopub.status.idle": "2025-03-10T21:21:21.073935Z",
     "shell.execute_reply": "2025-03-10T21:21:21.073102Z"
    },
    "papermill": {
     "duration": 0.097461,
     "end_time": "2025-03-10T21:21:21.075661",
     "exception": false,
     "start_time": "2025-03-10T21:21:20.978200",
     "status": "completed"
    },
    "tags": []
   },
   "outputs": [
    {
     "data": {
      "image/png": "[encoded data removed]",
      "text/plain": [
       "<Figure size 1000x500 with 1 Axes>"
      ]
     },
     "metadata": {},
     "output_type": "display_data"
    }
   ],
   "source": [
    "first_class=len(train_data.loc[train_data['Pclass']==1])\n",
    "second_class=len(train_data.loc[train_data['Pclass']==2])\n",
    "third_class=len(train_data.loc[train_data['Pclass']==3])\n",
    "\n",
    "plt.figure(figsize=(10,5))\n",
    "plt.pie([first_class, second_class, third_class], autopct='%1.2f%%', colors=['blue','red','green'],\n",
    "        labels=['First class', 'Second class', 'Third class'])\n",
    "plt.title('Class distribution')\n",
    "plt.show()"
   ]
  },
  {
   "cell_type": "code",
   "execution_count": 24,
   "id": "16ca1a4a",
   "metadata": {
    "execution": {
     "iopub.execute_input": "2025-03-10T21:21:21.101698Z",
     "iopub.status.busy": "2025-03-10T21:21:21.100820Z",
     "iopub.status.idle": "2025-03-10T21:21:21.200505Z",
     "shell.execute_reply": "2025-03-10T21:21:21.199837Z"
    },
    "papermill": {
     "duration": 0.11445,
     "end_time": "2025-03-10T21:21:21.202214",
     "exception": false,
     "start_time": "2025-03-10T21:21:21.087764",
     "status": "completed"
    },
    "tags": []
   },
   "outputs": [
    {
     "data": {
      "image/png": "[encoded data removed]",
      "text/plain": [
       "<Figure size 1000x500 with 1 Axes>"
      ]
     },
     "metadata": {},
     "output_type": "display_data"
    }
   ],
   "source": [
    "\n",
    "southampton=len(train_data.loc[train_data['Embarked_S']==True])\n",
    "cherbourg=len(train_data.loc[train_data['Embarked_C']==True])\n",
    "queenstown=len(train_data.loc[train_data['Embarked_Q']==True])\n",
    "\n",
    "plt.figure(figsize=(10,5))\n",
    "plt.pie([southampton, cherbourg, queenstown], autopct='%1.2f%%', colors=['blue','red','green'],\n",
    "        labels=['Southampton', 'Cherbourg', 'Queenstown'])\n",
    "plt.title('Port of Embarkation')\n",
    "plt.show()"
   ]
  },
  {
   "cell_type": "code",
   "execution_count": 25,
   "id": "2eb31786",
   "metadata": {
    "execution": {
     "iopub.execute_input": "2025-03-10T21:21:21.229381Z",
     "iopub.status.busy": "2025-03-10T21:21:21.229032Z",
     "iopub.status.idle": "2025-03-10T21:21:21.245562Z",
     "shell.execute_reply": "2025-03-10T21:21:21.244734Z"
    },
    "papermill": {
     "duration": 0.032455,
     "end_time": "2025-03-10T21:21:21.247177",
     "exception": false,
     "start_time": "2025-03-10T21:21:21.214722",
     "status": "completed"
    },
    "tags": []
   },
   "outputs": [
    {
     "data": {
      "text/html": [
       "<div>\n",
       "<style scoped>\n",
       "    .dataframe tbody tr th:only-of-type {\n",
       "        vertical-align: middle;\n",
       "    }\n",
       "\n",
       "    .dataframe tbody tr th {\n",
       "        vertical-align: top;\n",
       "    }\n",
       "\n",
       "    .dataframe thead th {\n",
       "        text-align: right;\n",
       "    }\n",
       "</style>\n",
       "<table border=\"1\" class=\"dataframe\">\n",
       "  <thead>\n",
       "    <tr style=\"text-align: right;\">\n",
       "      <th></th>\n",
       "      <th>Survived</th>\n",
       "      <th>Pclass</th>\n",
       "      <th>Age</th>\n",
       "      <th>SibSp</th>\n",
       "      <th>Parch</th>\n",
       "      <th>Fare</th>\n",
       "    </tr>\n",
       "  </thead>\n",
       "  <tbody>\n",
       "    <tr>\n",
       "      <th>Survived</th>\n",
       "      <td>1.000000</td>\n",
       "      <td>-0.359653</td>\n",
       "      <td>-0.077221</td>\n",
       "      <td>-0.017358</td>\n",
       "      <td>0.093317</td>\n",
       "      <td>0.268189</td>\n",
       "    </tr>\n",
       "    <tr>\n",
       "      <th>Pclass</th>\n",
       "      <td>-0.359653</td>\n",
       "      <td>1.000000</td>\n",
       "      <td>-0.369226</td>\n",
       "      <td>0.067247</td>\n",
       "      <td>0.025683</td>\n",
       "      <td>-0.554182</td>\n",
       "    </tr>\n",
       "    <tr>\n",
       "      <th>Age</th>\n",
       "      <td>-0.077221</td>\n",
       "      <td>-0.369226</td>\n",
       "      <td>1.000000</td>\n",
       "      <td>-0.308247</td>\n",
       "      <td>-0.189119</td>\n",
       "      <td>0.096067</td>\n",
       "    </tr>\n",
       "    <tr>\n",
       "      <th>SibSp</th>\n",
       "      <td>-0.017358</td>\n",
       "      <td>0.067247</td>\n",
       "      <td>-0.308247</td>\n",
       "      <td>1.000000</td>\n",
       "      <td>0.383820</td>\n",
       "      <td>0.138329</td>\n",
       "    </tr>\n",
       "    <tr>\n",
       "      <th>Parch</th>\n",
       "      <td>0.093317</td>\n",
       "      <td>0.025683</td>\n",
       "      <td>-0.189119</td>\n",
       "      <td>0.383820</td>\n",
       "      <td>1.000000</td>\n",
       "      <td>0.205119</td>\n",
       "    </tr>\n",
       "    <tr>\n",
       "      <th>Fare</th>\n",
       "      <td>0.268189</td>\n",
       "      <td>-0.554182</td>\n",
       "      <td>0.096067</td>\n",
       "      <td>0.138329</td>\n",
       "      <td>0.205119</td>\n",
       "      <td>1.000000</td>\n",
       "    </tr>\n",
       "  </tbody>\n",
       "</table>\n",
       "</div>"
      ],
      "text/plain": [
       "          Survived    Pclass       Age     SibSp     Parch      Fare\n",
       "Survived  1.000000 -0.359653 -0.077221 -0.017358  0.093317  0.268189\n",
       "Pclass   -0.359653  1.000000 -0.369226  0.067247  0.025683 -0.554182\n",
       "Age      -0.077221 -0.369226  1.000000 -0.308247 -0.189119  0.096067\n",
       "SibSp    -0.017358  0.067247 -0.308247  1.000000  0.383820  0.138329\n",
       "Parch     0.093317  0.025683 -0.189119  0.383820  1.000000  0.205119\n",
       "Fare      0.268189 -0.554182  0.096067  0.138329  0.205119  1.000000"
      ]
     },
     "execution_count": 25,
     "metadata": {},
     "output_type": "execute_result"
    }
   ],
   "source": [
    "df_corr = train_data[[#'PassengerId',\n",
    "    'Survived', 'Pclass', #'Name',\n",
    "    #'Sex', \n",
    "    'Age', 'SibSp',\n",
    "       'Parch', #'Ticket', \n",
    "    'Fare', #'Cabin', \n",
    "    #'Embarked_S',\n",
    "    #'Embarked_Q',\n",
    "    #'Embarked_C'\n",
    "]].dropna().corr(method='pearson')\n",
    "df_corr"
   ]
  },
  {
   "cell_type": "code",
   "execution_count": 26,
   "id": "2796c54f",
   "metadata": {
    "execution": {
     "iopub.execute_input": "2025-03-10T21:21:21.274155Z",
     "iopub.status.busy": "2025-03-10T21:21:21.273811Z",
     "iopub.status.idle": "2025-03-10T21:21:21.281049Z",
     "shell.execute_reply": "2025-03-10T21:21:21.280344Z"
    },
    "papermill": {
     "duration": 0.022693,
     "end_time": "2025-03-10T21:21:21.282770",
     "exception": false,
     "start_time": "2025-03-10T21:21:21.260077",
     "status": "completed"
    },
    "tags": []
   },
   "outputs": [
    {
     "name": "stdout",
     "output_type": "stream",
     "text": [
      "     Survived  Embarked_S\n",
      "0           0        True\n",
      "1           1       False\n",
      "2           1        True\n",
      "3           1        True\n",
      "4           0        True\n",
      "..        ...         ...\n",
      "886         0        True\n",
      "887         1        True\n",
      "888         0        True\n",
      "889         1       False\n",
      "890         0       False\n",
      "\n",
      "[891 rows x 2 columns]\n"
     ]
    }
   ],
   "source": [
    "print(train_data[['Survived', 'Embarked_S']])"
   ]
  },
  {
   "cell_type": "code",
   "execution_count": 27,
   "id": "3706f66f",
   "metadata": {
    "execution": {
     "iopub.execute_input": "2025-03-10T21:21:21.301867Z",
     "iopub.status.busy": "2025-03-10T21:21:21.301529Z",
     "iopub.status.idle": "2025-03-10T21:21:21.310829Z",
     "shell.execute_reply": "2025-03-10T21:21:21.310129Z"
    },
    "papermill": {
     "duration": 0.019741,
     "end_time": "2025-03-10T21:21:21.312130",
     "exception": false,
     "start_time": "2025-03-10T21:21:21.292389",
     "status": "completed"
    },
    "tags": []
   },
   "outputs": [
    {
     "data": {
      "text/plain": [
       "0.5157241041177254"
      ]
     },
     "execution_count": 27,
     "metadata": {},
     "output_type": "execute_result"
    }
   ],
   "source": [
    "sur_pclass=association(train_data[['Survived', 'Pclass']], method='cramer')\n",
    "sur_pclass"
   ]
  },
  {
   "cell_type": "code",
   "execution_count": 28,
   "id": "9beec4ad",
   "metadata": {
    "execution": {
     "iopub.execute_input": "2025-03-10T21:21:21.330009Z",
     "iopub.status.busy": "2025-03-10T21:21:21.329672Z",
     "iopub.status.idle": "2025-03-10T21:21:21.335528Z",
     "shell.execute_reply": "2025-03-10T21:21:21.334570Z"
    },
    "papermill": {
     "duration": 0.016801,
     "end_time": "2025-03-10T21:21:21.337239",
     "exception": false,
     "start_time": "2025-03-10T21:21:21.320438",
     "status": "completed"
    },
    "tags": []
   },
   "outputs": [],
   "source": [
    "#select and drop\n",
    "y_train = train_data['Survived']\n",
    "x_train = train_data.drop(columns=['Survived'])\n",
    "x_test = test_data.drop(columns=['Name', 'PassengerId', 'Ticket', 'Cabin'])\n"
   ]
  },
  {
   "cell_type": "code",
   "execution_count": 29,
   "id": "ff7c0201",
   "metadata": {
    "execution": {
     "iopub.execute_input": "2025-03-10T21:21:21.354921Z",
     "iopub.status.busy": "2025-03-10T21:21:21.354584Z",
     "iopub.status.idle": "2025-03-10T21:21:21.369869Z",
     "shell.execute_reply": "2025-03-10T21:21:21.368906Z"
    },
    "papermill": {
     "duration": 0.025893,
     "end_time": "2025-03-10T21:21:21.371447",
     "exception": false,
     "start_time": "2025-03-10T21:21:21.345554",
     "status": "completed"
    },
    "tags": []
   },
   "outputs": [
    {
     "data": {
      "text/html": [
       "<div>\n",
       "<style scoped>\n",
       "    .dataframe tbody tr th:only-of-type {\n",
       "        vertical-align: middle;\n",
       "    }\n",
       "\n",
       "    .dataframe tbody tr th {\n",
       "        vertical-align: top;\n",
       "    }\n",
       "\n",
       "    .dataframe thead th {\n",
       "        text-align: right;\n",
       "    }\n",
       "</style>\n",
       "<table border=\"1\" class=\"dataframe\">\n",
       "  <thead>\n",
       "    <tr style=\"text-align: right;\">\n",
       "      <th></th>\n",
       "      <th>Pclass</th>\n",
       "      <th>Age</th>\n",
       "      <th>SibSp</th>\n",
       "      <th>Parch</th>\n",
       "      <th>Fare</th>\n",
       "      <th>Sex_male</th>\n",
       "      <th>Embarked_C</th>\n",
       "      <th>Embarked_Q</th>\n",
       "      <th>Embarked_S</th>\n",
       "    </tr>\n",
       "  </thead>\n",
       "  <tbody>\n",
       "    <tr>\n",
       "      <th>0</th>\n",
       "      <td>3</td>\n",
       "      <td>22.0</td>\n",
       "      <td>1</td>\n",
       "      <td>0</td>\n",
       "      <td>7.2500</td>\n",
       "      <td>True</td>\n",
       "      <td>False</td>\n",
       "      <td>False</td>\n",
       "      <td>True</td>\n",
       "    </tr>\n",
       "    <tr>\n",
       "      <th>1</th>\n",
       "      <td>1</td>\n",
       "      <td>38.0</td>\n",
       "      <td>1</td>\n",
       "      <td>0</td>\n",
       "      <td>71.2833</td>\n",
       "      <td>False</td>\n",
       "      <td>True</td>\n",
       "      <td>False</td>\n",
       "      <td>False</td>\n",
       "    </tr>\n",
       "    <tr>\n",
       "      <th>2</th>\n",
       "      <td>3</td>\n",
       "      <td>26.0</td>\n",
       "      <td>0</td>\n",
       "      <td>0</td>\n",
       "      <td>7.9250</td>\n",
       "      <td>False</td>\n",
       "      <td>False</td>\n",
       "      <td>False</td>\n",
       "      <td>True</td>\n",
       "    </tr>\n",
       "    <tr>\n",
       "      <th>3</th>\n",
       "      <td>1</td>\n",
       "      <td>35.0</td>\n",
       "      <td>1</td>\n",
       "      <td>0</td>\n",
       "      <td>53.1000</td>\n",
       "      <td>False</td>\n",
       "      <td>False</td>\n",
       "      <td>False</td>\n",
       "      <td>True</td>\n",
       "    </tr>\n",
       "    <tr>\n",
       "      <th>4</th>\n",
       "      <td>3</td>\n",
       "      <td>35.0</td>\n",
       "      <td>0</td>\n",
       "      <td>0</td>\n",
       "      <td>8.0500</td>\n",
       "      <td>True</td>\n",
       "      <td>False</td>\n",
       "      <td>False</td>\n",
       "      <td>True</td>\n",
       "    </tr>\n",
       "    <tr>\n",
       "      <th>...</th>\n",
       "      <td>...</td>\n",
       "      <td>...</td>\n",
       "      <td>...</td>\n",
       "      <td>...</td>\n",
       "      <td>...</td>\n",
       "      <td>...</td>\n",
       "      <td>...</td>\n",
       "      <td>...</td>\n",
       "      <td>...</td>\n",
       "    </tr>\n",
       "    <tr>\n",
       "      <th>886</th>\n",
       "      <td>2</td>\n",
       "      <td>27.0</td>\n",
       "      <td>0</td>\n",
       "      <td>0</td>\n",
       "      <td>13.0000</td>\n",
       "      <td>True</td>\n",
       "      <td>False</td>\n",
       "      <td>False</td>\n",
       "      <td>True</td>\n",
       "    </tr>\n",
       "    <tr>\n",
       "      <th>887</th>\n",
       "      <td>1</td>\n",
       "      <td>19.0</td>\n",
       "      <td>0</td>\n",
       "      <td>0</td>\n",
       "      <td>30.0000</td>\n",
       "      <td>False</td>\n",
       "      <td>False</td>\n",
       "      <td>False</td>\n",
       "      <td>True</td>\n",
       "    </tr>\n",
       "    <tr>\n",
       "      <th>888</th>\n",
       "      <td>3</td>\n",
       "      <td>28.0</td>\n",
       "      <td>1</td>\n",
       "      <td>2</td>\n",
       "      <td>23.4500</td>\n",
       "      <td>False</td>\n",
       "      <td>False</td>\n",
       "      <td>False</td>\n",
       "      <td>True</td>\n",
       "    </tr>\n",
       "    <tr>\n",
       "      <th>889</th>\n",
       "      <td>1</td>\n",
       "      <td>26.0</td>\n",
       "      <td>0</td>\n",
       "      <td>0</td>\n",
       "      <td>30.0000</td>\n",
       "      <td>True</td>\n",
       "      <td>True</td>\n",
       "      <td>False</td>\n",
       "      <td>False</td>\n",
       "    </tr>\n",
       "    <tr>\n",
       "      <th>890</th>\n",
       "      <td>3</td>\n",
       "      <td>32.0</td>\n",
       "      <td>0</td>\n",
       "      <td>0</td>\n",
       "      <td>7.7500</td>\n",
       "      <td>True</td>\n",
       "      <td>False</td>\n",
       "      <td>True</td>\n",
       "      <td>False</td>\n",
       "    </tr>\n",
       "  </tbody>\n",
       "</table>\n",
       "<p>891 rows × 9 columns</p>\n",
       "</div>"
      ],
      "text/plain": [
       "     Pclass   Age  SibSp  Parch     Fare  Sex_male  Embarked_C  Embarked_Q  \\\n",
       "0         3  22.0      1      0   7.2500      True       False       False   \n",
       "1         1  38.0      1      0  71.2833     False        True       False   \n",
       "2         3  26.0      0      0   7.9250     False       False       False   \n",
       "3         1  35.0      1      0  53.1000     False       False       False   \n",
       "4         3  35.0      0      0   8.0500      True       False       False   \n",
       "..      ...   ...    ...    ...      ...       ...         ...         ...   \n",
       "886       2  27.0      0      0  13.0000      True       False       False   \n",
       "887       1  19.0      0      0  30.0000     False       False       False   \n",
       "888       3  28.0      1      2  23.4500     False       False       False   \n",
       "889       1  26.0      0      0  30.0000      True        True       False   \n",
       "890       3  32.0      0      0   7.7500      True       False        True   \n",
       "\n",
       "     Embarked_S  \n",
       "0          True  \n",
       "1         False  \n",
       "2          True  \n",
       "3          True  \n",
       "4          True  \n",
       "..          ...  \n",
       "886        True  \n",
       "887        True  \n",
       "888        True  \n",
       "889       False  \n",
       "890       False  \n",
       "\n",
       "[891 rows x 9 columns]"
      ]
     },
     "execution_count": 29,
     "metadata": {},
     "output_type": "execute_result"
    }
   ],
   "source": [
    "fill_age_value = x_train['Age'].median()\n",
    "x_train['Age'] = x_train['Age'].fillna(fill_age_value)\n",
    "x_test['Age']=x_test['Age'].fillna(fill_age_value)\n",
    "x_test['Fare'] = x_test['Fare'].fillna(0)\n",
    "(x_train)\n"
   ]
  },
  {
   "cell_type": "code",
   "execution_count": 30,
   "id": "50c141a0",
   "metadata": {
    "execution": {
     "iopub.execute_input": "2025-03-10T21:21:21.391097Z",
     "iopub.status.busy": "2025-03-10T21:21:21.390310Z",
     "iopub.status.idle": "2025-03-10T21:21:21.538693Z",
     "shell.execute_reply": "2025-03-10T21:21:21.537353Z"
    },
    "papermill": {
     "duration": 0.160067,
     "end_time": "2025-03-10T21:21:21.540625",
     "exception": false,
     "start_time": "2025-03-10T21:21:21.380558",
     "status": "completed"
    },
    "tags": []
   },
   "outputs": [
    {
     "name": "stdout",
     "output_type": "stream",
     "text": [
      "0      0\n",
      "1      1\n",
      "2      1\n",
      "3      1\n",
      "4      0\n",
      "      ..\n",
      "886    0\n",
      "887    1\n",
      "888    0\n",
      "889    1\n",
      "890    0\n",
      "Name: Survived, Length: 891, dtype: int64\n"
     ]
    }
   ],
   "source": [
    "# training\n",
    "rf = RandomForestClassifier()\n",
    "rf.fit(x_train, y_train)\n",
    "print(y_train)"
   ]
  },
  {
   "cell_type": "code",
   "execution_count": 31,
   "id": "482806a0",
   "metadata": {
    "execution": {
     "iopub.execute_input": "2025-03-10T21:21:21.559240Z",
     "iopub.status.busy": "2025-03-10T21:21:21.558917Z",
     "iopub.status.idle": "2025-03-10T21:21:21.580170Z",
     "shell.execute_reply": "2025-03-10T21:21:21.579194Z"
    },
    "papermill": {
     "duration": 0.032532,
     "end_time": "2025-03-10T21:21:21.581885",
     "exception": false,
     "start_time": "2025-03-10T21:21:21.549353",
     "status": "completed"
    },
    "tags": []
   },
   "outputs": [
    {
     "name": "stdout",
     "output_type": "stream",
     "text": [
      "     PassengerId  Survived\n",
      "0            892         0\n",
      "1            893         0\n",
      "2            894         0\n",
      "3            895         1\n",
      "4            896         0\n",
      "..           ...       ...\n",
      "413         1305         0\n",
      "414         1306         1\n",
      "415         1307         0\n",
      "416         1308         0\n",
      "417         1309         1\n",
      "\n",
      "[418 rows x 2 columns]\n"
     ]
    }
   ],
   "source": [
    "# predict\n",
    "y_pred = rf.predict(x_test)\n",
    "output = pd.DataFrame()\n",
    "output['PassengerId'] = test_data['PassengerId']\n",
    "output['Survived'] = y_pred\n",
    "print(output)\n",
    "\n",
    "\n",
    "output.to_csv(\"/kaggle/working/submission.csv\", index=False)\n"
   ]
  }
 ],
 "metadata": {
  "kaggle": {
   "accelerator": "none",
   "dataSources": [
    {
     "databundleVersionId": 26502,
     "sourceId": 3136,
     "sourceType": "competition"
    }
   ],
   "dockerImageVersionId": 30786,
   "isGpuEnabled": false,
   "isInternetEnabled": false,
   "language": "python",
   "sourceType": "notebook"
  },
  "kernelspec": {
   "display_name": "Python 3",
   "language": "python",
   "name": "python3"
  },
  "language_info": {
   "codemirror_mode": {
    "name": "ipython",
    "version": 3
   },
   "file_extension": ".py",
   "mimetype": "text/x-python",
   "name": "python",
   "nbconvert_exporter": "python",
   "pygments_lexer": "ipython3",
   "version": "3.10.14"
  },
  "papermill": {
   "default_parameters": {},
   "duration": 7.677165,
   "end_time": "2025-03-10T21:21:22.211257",
   "environment_variables": {},
   "exception": null,
   "input_path": "__notebook__.ipynb",
   "output_path": "__notebook__.ipynb",
   "parameters": {},
   "start_time": "2025-03-10T21:21:14.534092",
   "version": "2.6.0"
  }
 },
 "nbformat": 4,
 "nbformat_minor": 5
}
