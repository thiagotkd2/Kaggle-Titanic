{
 "cells": [
  {
   "cell_type": "code",
   "execution_count": 1,
   "id": "0614bf9d",
   "metadata": {
    "_cell_guid": "b1076dfc-b9ad-4769-8c92-a6c4dae69d19",
    "_uuid": "8f2839f25d086af736a60e9eeb907d3b93b6e0e5",
    "execution": {
     "iopub.execute_input": "2025-02-27T15:57:17.632624Z",
     "iopub.status.busy": "2025-02-27T15:57:17.632224Z",
     "iopub.status.idle": "2025-02-27T15:57:20.421113Z",
     "shell.execute_reply": "2025-02-27T15:57:20.420106Z"
    },
    "papermill": {
     "duration": 2.799849,
     "end_time": "2025-02-27T15:57:20.423617",
     "exception": false,
     "start_time": "2025-02-27T15:57:17.623768",
     "status": "completed"
    },
    "tags": []
   },
   "outputs": [],
   "source": [
    "import numpy as np # linear algebra\n",
    "import pandas as pd # data processing, CSV file I/O (e.g. pd.read_csv)\n",
    "\n",
    "# Modelling\n",
    "from scipy.stats.contingency import association\n",
    "from sklearn.ensemble import RandomForestClassifier\n",
    "from sklearn.metrics import accuracy_score, confusion_matrix, precision_score, recall_score, ConfusionMatrixDisplay\n",
    "from sklearn.model_selection import RandomizedSearchCV, train_test_split\n",
    "from sklearn.preprocessing import OneHotEncoder\n",
    "from scipy.stats import randint\n",
    "\n",
    "# read input\n",
    "test_data = pd.read_csv(\"/kaggle/input/titanic/test.csv\")\n",
    "train_data = pd.read_csv(\"/kaggle/input/titanic/train.csv\")"
   ]
  },
  {
   "cell_type": "code",
   "execution_count": 2,
   "id": "dafc8604",
   "metadata": {
    "execution": {
     "iopub.execute_input": "2025-02-27T15:57:20.438061Z",
     "iopub.status.busy": "2025-02-27T15:57:20.437696Z",
     "iopub.status.idle": "2025-02-27T15:57:20.469749Z",
     "shell.execute_reply": "2025-02-27T15:57:20.468643Z"
    },
    "papermill": {
     "duration": 0.041948,
     "end_time": "2025-02-27T15:57:20.472192",
     "exception": false,
     "start_time": "2025-02-27T15:57:20.430244",
     "status": "completed"
    },
    "tags": []
   },
   "outputs": [
    {
     "data": {
      "text/html": [
       "<div>\n",
       "<style scoped>\n",
       "    .dataframe tbody tr th:only-of-type {\n",
       "        vertical-align: middle;\n",
       "    }\n",
       "\n",
       "    .dataframe tbody tr th {\n",
       "        vertical-align: top;\n",
       "    }\n",
       "\n",
       "    .dataframe thead th {\n",
       "        text-align: right;\n",
       "    }\n",
       "</style>\n",
       "<table border=\"1\" class=\"dataframe\">\n",
       "  <thead>\n",
       "    <tr style=\"text-align: right;\">\n",
       "      <th></th>\n",
       "      <th>PassengerId</th>\n",
       "      <th>Survived</th>\n",
       "      <th>Pclass</th>\n",
       "      <th>Name</th>\n",
       "      <th>Sex</th>\n",
       "      <th>Age</th>\n",
       "      <th>SibSp</th>\n",
       "      <th>Parch</th>\n",
       "      <th>Ticket</th>\n",
       "      <th>Fare</th>\n",
       "      <th>Cabin</th>\n",
       "      <th>Embarked</th>\n",
       "    </tr>\n",
       "  </thead>\n",
       "  <tbody>\n",
       "    <tr>\n",
       "      <th>0</th>\n",
       "      <td>1</td>\n",
       "      <td>0</td>\n",
       "      <td>3</td>\n",
       "      <td>Braund, Mr. Owen Harris</td>\n",
       "      <td>male</td>\n",
       "      <td>22.0</td>\n",
       "      <td>1</td>\n",
       "      <td>0</td>\n",
       "      <td>A/5 21171</td>\n",
       "      <td>7.2500</td>\n",
       "      <td>NaN</td>\n",
       "      <td>S</td>\n",
       "    </tr>\n",
       "    <tr>\n",
       "      <th>1</th>\n",
       "      <td>2</td>\n",
       "      <td>1</td>\n",
       "      <td>1</td>\n",
       "      <td>Cumings, Mrs. John Bradley (Florence Briggs Th...</td>\n",
       "      <td>female</td>\n",
       "      <td>38.0</td>\n",
       "      <td>1</td>\n",
       "      <td>0</td>\n",
       "      <td>PC 17599</td>\n",
       "      <td>71.2833</td>\n",
       "      <td>C85</td>\n",
       "      <td>C</td>\n",
       "    </tr>\n",
       "    <tr>\n",
       "      <th>2</th>\n",
       "      <td>3</td>\n",
       "      <td>1</td>\n",
       "      <td>3</td>\n",
       "      <td>Heikkinen, Miss. Laina</td>\n",
       "      <td>female</td>\n",
       "      <td>26.0</td>\n",
       "      <td>0</td>\n",
       "      <td>0</td>\n",
       "      <td>STON/O2. 3101282</td>\n",
       "      <td>7.9250</td>\n",
       "      <td>NaN</td>\n",
       "      <td>S</td>\n",
       "    </tr>\n",
       "    <tr>\n",
       "      <th>3</th>\n",
       "      <td>4</td>\n",
       "      <td>1</td>\n",
       "      <td>1</td>\n",
       "      <td>Futrelle, Mrs. Jacques Heath (Lily May Peel)</td>\n",
       "      <td>female</td>\n",
       "      <td>35.0</td>\n",
       "      <td>1</td>\n",
       "      <td>0</td>\n",
       "      <td>113803</td>\n",
       "      <td>53.1000</td>\n",
       "      <td>C123</td>\n",
       "      <td>S</td>\n",
       "    </tr>\n",
       "    <tr>\n",
       "      <th>4</th>\n",
       "      <td>5</td>\n",
       "      <td>0</td>\n",
       "      <td>3</td>\n",
       "      <td>Allen, Mr. William Henry</td>\n",
       "      <td>male</td>\n",
       "      <td>35.0</td>\n",
       "      <td>0</td>\n",
       "      <td>0</td>\n",
       "      <td>373450</td>\n",
       "      <td>8.0500</td>\n",
       "      <td>NaN</td>\n",
       "      <td>S</td>\n",
       "    </tr>\n",
       "    <tr>\n",
       "      <th>...</th>\n",
       "      <td>...</td>\n",
       "      <td>...</td>\n",
       "      <td>...</td>\n",
       "      <td>...</td>\n",
       "      <td>...</td>\n",
       "      <td>...</td>\n",
       "      <td>...</td>\n",
       "      <td>...</td>\n",
       "      <td>...</td>\n",
       "      <td>...</td>\n",
       "      <td>...</td>\n",
       "      <td>...</td>\n",
       "    </tr>\n",
       "    <tr>\n",
       "      <th>886</th>\n",
       "      <td>887</td>\n",
       "      <td>0</td>\n",
       "      <td>2</td>\n",
       "      <td>Montvila, Rev. Juozas</td>\n",
       "      <td>male</td>\n",
       "      <td>27.0</td>\n",
       "      <td>0</td>\n",
       "      <td>0</td>\n",
       "      <td>211536</td>\n",
       "      <td>13.0000</td>\n",
       "      <td>NaN</td>\n",
       "      <td>S</td>\n",
       "    </tr>\n",
       "    <tr>\n",
       "      <th>887</th>\n",
       "      <td>888</td>\n",
       "      <td>1</td>\n",
       "      <td>1</td>\n",
       "      <td>Graham, Miss. Margaret Edith</td>\n",
       "      <td>female</td>\n",
       "      <td>19.0</td>\n",
       "      <td>0</td>\n",
       "      <td>0</td>\n",
       "      <td>112053</td>\n",
       "      <td>30.0000</td>\n",
       "      <td>B42</td>\n",
       "      <td>S</td>\n",
       "    </tr>\n",
       "    <tr>\n",
       "      <th>888</th>\n",
       "      <td>889</td>\n",
       "      <td>0</td>\n",
       "      <td>3</td>\n",
       "      <td>Johnston, Miss. Catherine Helen \"Carrie\"</td>\n",
       "      <td>female</td>\n",
       "      <td>NaN</td>\n",
       "      <td>1</td>\n",
       "      <td>2</td>\n",
       "      <td>W./C. 6607</td>\n",
       "      <td>23.4500</td>\n",
       "      <td>NaN</td>\n",
       "      <td>S</td>\n",
       "    </tr>\n",
       "    <tr>\n",
       "      <th>889</th>\n",
       "      <td>890</td>\n",
       "      <td>1</td>\n",
       "      <td>1</td>\n",
       "      <td>Behr, Mr. Karl Howell</td>\n",
       "      <td>male</td>\n",
       "      <td>26.0</td>\n",
       "      <td>0</td>\n",
       "      <td>0</td>\n",
       "      <td>111369</td>\n",
       "      <td>30.0000</td>\n",
       "      <td>C148</td>\n",
       "      <td>C</td>\n",
       "    </tr>\n",
       "    <tr>\n",
       "      <th>890</th>\n",
       "      <td>891</td>\n",
       "      <td>0</td>\n",
       "      <td>3</td>\n",
       "      <td>Dooley, Mr. Patrick</td>\n",
       "      <td>male</td>\n",
       "      <td>32.0</td>\n",
       "      <td>0</td>\n",
       "      <td>0</td>\n",
       "      <td>370376</td>\n",
       "      <td>7.7500</td>\n",
       "      <td>NaN</td>\n",
       "      <td>Q</td>\n",
       "    </tr>\n",
       "  </tbody>\n",
       "</table>\n",
       "<p>891 rows × 12 columns</p>\n",
       "</div>"
      ],
      "text/plain": [
       "     PassengerId  Survived  Pclass  \\\n",
       "0              1         0       3   \n",
       "1              2         1       1   \n",
       "2              3         1       3   \n",
       "3              4         1       1   \n",
       "4              5         0       3   \n",
       "..           ...       ...     ...   \n",
       "886          887         0       2   \n",
       "887          888         1       1   \n",
       "888          889         0       3   \n",
       "889          890         1       1   \n",
       "890          891         0       3   \n",
       "\n",
       "                                                  Name     Sex   Age  SibSp  \\\n",
       "0                              Braund, Mr. Owen Harris    male  22.0      1   \n",
       "1    Cumings, Mrs. John Bradley (Florence Briggs Th...  female  38.0      1   \n",
       "2                               Heikkinen, Miss. Laina  female  26.0      0   \n",
       "3         Futrelle, Mrs. Jacques Heath (Lily May Peel)  female  35.0      1   \n",
       "4                             Allen, Mr. William Henry    male  35.0      0   \n",
       "..                                                 ...     ...   ...    ...   \n",
       "886                              Montvila, Rev. Juozas    male  27.0      0   \n",
       "887                       Graham, Miss. Margaret Edith  female  19.0      0   \n",
       "888           Johnston, Miss. Catherine Helen \"Carrie\"  female   NaN      1   \n",
       "889                              Behr, Mr. Karl Howell    male  26.0      0   \n",
       "890                                Dooley, Mr. Patrick    male  32.0      0   \n",
       "\n",
       "     Parch            Ticket     Fare Cabin Embarked  \n",
       "0        0         A/5 21171   7.2500   NaN        S  \n",
       "1        0          PC 17599  71.2833   C85        C  \n",
       "2        0  STON/O2. 3101282   7.9250   NaN        S  \n",
       "3        0            113803  53.1000  C123        S  \n",
       "4        0            373450   8.0500   NaN        S  \n",
       "..     ...               ...      ...   ...      ...  \n",
       "886      0            211536  13.0000   NaN        S  \n",
       "887      0            112053  30.0000   B42        S  \n",
       "888      2        W./C. 6607  23.4500   NaN        S  \n",
       "889      0            111369  30.0000  C148        C  \n",
       "890      0            370376   7.7500   NaN        Q  \n",
       "\n",
       "[891 rows x 12 columns]"
      ]
     },
     "execution_count": 2,
     "metadata": {},
     "output_type": "execute_result"
    }
   ],
   "source": [
    "train_data"
   ]
  },
  {
   "cell_type": "code",
   "execution_count": 3,
   "id": "8e321bc2",
   "metadata": {
    "execution": {
     "iopub.execute_input": "2025-02-27T15:57:20.487427Z",
     "iopub.status.busy": "2025-02-27T15:57:20.487013Z",
     "iopub.status.idle": "2025-02-27T15:57:20.494360Z",
     "shell.execute_reply": "2025-02-27T15:57:20.493125Z"
    },
    "papermill": {
     "duration": 0.017641,
     "end_time": "2025-02-27T15:57:20.496678",
     "exception": false,
     "start_time": "2025-02-27T15:57:20.479037",
     "status": "completed"
    },
    "tags": []
   },
   "outputs": [
    {
     "data": {
      "text/plain": [
       "(891, 12)"
      ]
     },
     "execution_count": 3,
     "metadata": {},
     "output_type": "execute_result"
    }
   ],
   "source": [
    "train_data.shape"
   ]
  },
  {
   "cell_type": "code",
   "execution_count": 4,
   "id": "e3b62461",
   "metadata": {
    "execution": {
     "iopub.execute_input": "2025-02-27T15:57:20.512119Z",
     "iopub.status.busy": "2025-02-27T15:57:20.511696Z",
     "iopub.status.idle": "2025-02-27T15:57:20.527728Z",
     "shell.execute_reply": "2025-02-27T15:57:20.526601Z"
    },
    "papermill": {
     "duration": 0.02626,
     "end_time": "2025-02-27T15:57:20.530001",
     "exception": false,
     "start_time": "2025-02-27T15:57:20.503741",
     "status": "completed"
    },
    "tags": []
   },
   "outputs": [
    {
     "data": {
      "text/html": [
       "<div>\n",
       "<style scoped>\n",
       "    .dataframe tbody tr th:only-of-type {\n",
       "        vertical-align: middle;\n",
       "    }\n",
       "\n",
       "    .dataframe tbody tr th {\n",
       "        vertical-align: top;\n",
       "    }\n",
       "\n",
       "    .dataframe thead th {\n",
       "        text-align: right;\n",
       "    }\n",
       "</style>\n",
       "<table border=\"1\" class=\"dataframe\">\n",
       "  <thead>\n",
       "    <tr style=\"text-align: right;\">\n",
       "      <th></th>\n",
       "      <th>PassengerId</th>\n",
       "      <th>Survived</th>\n",
       "      <th>Pclass</th>\n",
       "      <th>Name</th>\n",
       "      <th>Sex</th>\n",
       "      <th>Age</th>\n",
       "      <th>SibSp</th>\n",
       "      <th>Parch</th>\n",
       "      <th>Ticket</th>\n",
       "      <th>Fare</th>\n",
       "      <th>Cabin</th>\n",
       "      <th>Embarked</th>\n",
       "    </tr>\n",
       "  </thead>\n",
       "  <tbody>\n",
       "    <tr>\n",
       "      <th>0</th>\n",
       "      <td>1</td>\n",
       "      <td>0</td>\n",
       "      <td>3</td>\n",
       "      <td>Braund, Mr. Owen Harris</td>\n",
       "      <td>male</td>\n",
       "      <td>22.0</td>\n",
       "      <td>1</td>\n",
       "      <td>0</td>\n",
       "      <td>A/5 21171</td>\n",
       "      <td>7.2500</td>\n",
       "      <td>NaN</td>\n",
       "      <td>S</td>\n",
       "    </tr>\n",
       "    <tr>\n",
       "      <th>1</th>\n",
       "      <td>2</td>\n",
       "      <td>1</td>\n",
       "      <td>1</td>\n",
       "      <td>Cumings, Mrs. John Bradley (Florence Briggs Th...</td>\n",
       "      <td>female</td>\n",
       "      <td>38.0</td>\n",
       "      <td>1</td>\n",
       "      <td>0</td>\n",
       "      <td>PC 17599</td>\n",
       "      <td>71.2833</td>\n",
       "      <td>C85</td>\n",
       "      <td>C</td>\n",
       "    </tr>\n",
       "    <tr>\n",
       "      <th>2</th>\n",
       "      <td>3</td>\n",
       "      <td>1</td>\n",
       "      <td>3</td>\n",
       "      <td>Heikkinen, Miss. Laina</td>\n",
       "      <td>female</td>\n",
       "      <td>26.0</td>\n",
       "      <td>0</td>\n",
       "      <td>0</td>\n",
       "      <td>STON/O2. 3101282</td>\n",
       "      <td>7.9250</td>\n",
       "      <td>NaN</td>\n",
       "      <td>S</td>\n",
       "    </tr>\n",
       "    <tr>\n",
       "      <th>3</th>\n",
       "      <td>4</td>\n",
       "      <td>1</td>\n",
       "      <td>1</td>\n",
       "      <td>Futrelle, Mrs. Jacques Heath (Lily May Peel)</td>\n",
       "      <td>female</td>\n",
       "      <td>35.0</td>\n",
       "      <td>1</td>\n",
       "      <td>0</td>\n",
       "      <td>113803</td>\n",
       "      <td>53.1000</td>\n",
       "      <td>C123</td>\n",
       "      <td>S</td>\n",
       "    </tr>\n",
       "    <tr>\n",
       "      <th>4</th>\n",
       "      <td>5</td>\n",
       "      <td>0</td>\n",
       "      <td>3</td>\n",
       "      <td>Allen, Mr. William Henry</td>\n",
       "      <td>male</td>\n",
       "      <td>35.0</td>\n",
       "      <td>0</td>\n",
       "      <td>0</td>\n",
       "      <td>373450</td>\n",
       "      <td>8.0500</td>\n",
       "      <td>NaN</td>\n",
       "      <td>S</td>\n",
       "    </tr>\n",
       "  </tbody>\n",
       "</table>\n",
       "</div>"
      ],
      "text/plain": [
       "   PassengerId  Survived  Pclass  \\\n",
       "0            1         0       3   \n",
       "1            2         1       1   \n",
       "2            3         1       3   \n",
       "3            4         1       1   \n",
       "4            5         0       3   \n",
       "\n",
       "                                                Name     Sex   Age  SibSp  \\\n",
       "0                            Braund, Mr. Owen Harris    male  22.0      1   \n",
       "1  Cumings, Mrs. John Bradley (Florence Briggs Th...  female  38.0      1   \n",
       "2                             Heikkinen, Miss. Laina  female  26.0      0   \n",
       "3       Futrelle, Mrs. Jacques Heath (Lily May Peel)  female  35.0      1   \n",
       "4                           Allen, Mr. William Henry    male  35.0      0   \n",
       "\n",
       "   Parch            Ticket     Fare Cabin Embarked  \n",
       "0      0         A/5 21171   7.2500   NaN        S  \n",
       "1      0          PC 17599  71.2833   C85        C  \n",
       "2      0  STON/O2. 3101282   7.9250   NaN        S  \n",
       "3      0            113803  53.1000  C123        S  \n",
       "4      0            373450   8.0500   NaN        S  "
      ]
     },
     "execution_count": 4,
     "metadata": {},
     "output_type": "execute_result"
    }
   ],
   "source": [
    "train_data.head(5)"
   ]
  },
  {
   "cell_type": "markdown",
   "id": "92e02625",
   "metadata": {
    "papermill": {
     "duration": 0.006604,
     "end_time": "2025-02-27T15:57:20.544497",
     "exception": false,
     "start_time": "2025-02-27T15:57:20.537893",
     "status": "completed"
    },
    "tags": []
   },
   "source": [
    "Verify null values"
   ]
  },
  {
   "cell_type": "code",
   "execution_count": 5,
   "id": "50e23ac8",
   "metadata": {
    "execution": {
     "iopub.execute_input": "2025-02-27T15:57:20.559785Z",
     "iopub.status.busy": "2025-02-27T15:57:20.559408Z",
     "iopub.status.idle": "2025-02-27T15:57:20.570417Z",
     "shell.execute_reply": "2025-02-27T15:57:20.569284Z"
    },
    "papermill": {
     "duration": 0.021162,
     "end_time": "2025-02-27T15:57:20.572534",
     "exception": false,
     "start_time": "2025-02-27T15:57:20.551372",
     "status": "completed"
    },
    "tags": []
   },
   "outputs": [
    {
     "data": {
      "text/plain": [
       "PassengerId      0\n",
       "Survived         0\n",
       "Pclass           0\n",
       "Name             0\n",
       "Sex              0\n",
       "Age            177\n",
       "SibSp            0\n",
       "Parch            0\n",
       "Ticket           0\n",
       "Fare             0\n",
       "Cabin          687\n",
       "Embarked         2\n",
       "dtype: int64"
      ]
     },
     "execution_count": 5,
     "metadata": {},
     "output_type": "execute_result"
    }
   ],
   "source": [
    "train_data.isna().sum()"
   ]
  },
  {
   "cell_type": "markdown",
   "id": "bc39ceb3",
   "metadata": {
    "papermill": {
     "duration": 0.006768,
     "end_time": "2025-02-27T15:57:20.586354",
     "exception": false,
     "start_time": "2025-02-27T15:57:20.579586",
     "status": "completed"
    },
    "tags": []
   },
   "source": [
    "the shape is (891, 12)\n",
    "\n",
    "and we have 687 na values in Cabin column\n",
    "\n",
    "77% of values are NA\n",
    "\n",
    "maybe its a good idea to discard this column"
   ]
  },
  {
   "cell_type": "code",
   "execution_count": 6,
   "id": "1da048c4",
   "metadata": {
    "execution": {
     "iopub.execute_input": "2025-02-27T15:57:20.602155Z",
     "iopub.status.busy": "2025-02-27T15:57:20.601769Z",
     "iopub.status.idle": "2025-02-27T15:57:20.608642Z",
     "shell.execute_reply": "2025-02-27T15:57:20.607512Z"
    },
    "papermill": {
     "duration": 0.017069,
     "end_time": "2025-02-27T15:57:20.610771",
     "exception": false,
     "start_time": "2025-02-27T15:57:20.593702",
     "status": "completed"
    },
    "tags": []
   },
   "outputs": [
    {
     "data": {
      "text/plain": [
       "Index(['PassengerId', 'Survived', 'Pclass', 'Name', 'Sex', 'Age', 'SibSp',\n",
       "       'Parch', 'Ticket', 'Fare', 'Cabin', 'Embarked'],\n",
       "      dtype='object')"
      ]
     },
     "execution_count": 6,
     "metadata": {},
     "output_type": "execute_result"
    }
   ],
   "source": [
    "train_data.columns"
   ]
  },
  {
   "cell_type": "code",
   "execution_count": 7,
   "id": "b34971ad",
   "metadata": {
    "execution": {
     "iopub.execute_input": "2025-02-27T15:57:20.627509Z",
     "iopub.status.busy": "2025-02-27T15:57:20.627097Z",
     "iopub.status.idle": "2025-02-27T15:57:20.635671Z",
     "shell.execute_reply": "2025-02-27T15:57:20.634504Z"
    },
    "papermill": {
     "duration": 0.019542,
     "end_time": "2025-02-27T15:57:20.637782",
     "exception": false,
     "start_time": "2025-02-27T15:57:20.618240",
     "status": "completed"
    },
    "tags": []
   },
   "outputs": [
    {
     "data": {
      "text/plain": [
       "PassengerId      int64\n",
       "Survived         int64\n",
       "Pclass           int64\n",
       "Name            object\n",
       "Sex             object\n",
       "Age            float64\n",
       "SibSp            int64\n",
       "Parch            int64\n",
       "Ticket          object\n",
       "Fare           float64\n",
       "Cabin           object\n",
       "Embarked        object\n",
       "dtype: object"
      ]
     },
     "execution_count": 7,
     "metadata": {},
     "output_type": "execute_result"
    }
   ],
   "source": [
    "train_data.dtypes"
   ]
  },
  {
   "cell_type": "code",
   "execution_count": 8,
   "id": "7d2af11c",
   "metadata": {
    "execution": {
     "iopub.execute_input": "2025-02-27T15:57:20.654292Z",
     "iopub.status.busy": "2025-02-27T15:57:20.653882Z",
     "iopub.status.idle": "2025-02-27T15:57:20.666443Z",
     "shell.execute_reply": "2025-02-27T15:57:20.665381Z"
    },
    "papermill": {
     "duration": 0.023261,
     "end_time": "2025-02-27T15:57:20.668435",
     "exception": false,
     "start_time": "2025-02-27T15:57:20.645174",
     "status": "completed"
    },
    "tags": []
   },
   "outputs": [
    {
     "data": {
      "text/plain": [
       "<bound method NDFrame.describe of      PassengerId  Survived  Pclass  \\\n",
       "0              1         0       3   \n",
       "1              2         1       1   \n",
       "2              3         1       3   \n",
       "3              4         1       1   \n",
       "4              5         0       3   \n",
       "..           ...       ...     ...   \n",
       "886          887         0       2   \n",
       "887          888         1       1   \n",
       "888          889         0       3   \n",
       "889          890         1       1   \n",
       "890          891         0       3   \n",
       "\n",
       "                                                  Name     Sex   Age  SibSp  \\\n",
       "0                              Braund, Mr. Owen Harris    male  22.0      1   \n",
       "1    Cumings, Mrs. John Bradley (Florence Briggs Th...  female  38.0      1   \n",
       "2                               Heikkinen, Miss. Laina  female  26.0      0   \n",
       "3         Futrelle, Mrs. Jacques Heath (Lily May Peel)  female  35.0      1   \n",
       "4                             Allen, Mr. William Henry    male  35.0      0   \n",
       "..                                                 ...     ...   ...    ...   \n",
       "886                              Montvila, Rev. Juozas    male  27.0      0   \n",
       "887                       Graham, Miss. Margaret Edith  female  19.0      0   \n",
       "888           Johnston, Miss. Catherine Helen \"Carrie\"  female   NaN      1   \n",
       "889                              Behr, Mr. Karl Howell    male  26.0      0   \n",
       "890                                Dooley, Mr. Patrick    male  32.0      0   \n",
       "\n",
       "     Parch            Ticket     Fare Cabin Embarked  \n",
       "0        0         A/5 21171   7.2500   NaN        S  \n",
       "1        0          PC 17599  71.2833   C85        C  \n",
       "2        0  STON/O2. 3101282   7.9250   NaN        S  \n",
       "3        0            113803  53.1000  C123        S  \n",
       "4        0            373450   8.0500   NaN        S  \n",
       "..     ...               ...      ...   ...      ...  \n",
       "886      0            211536  13.0000   NaN        S  \n",
       "887      0            112053  30.0000   B42        S  \n",
       "888      2        W./C. 6607  23.4500   NaN        S  \n",
       "889      0            111369  30.0000  C148        C  \n",
       "890      0            370376   7.7500   NaN        Q  \n",
       "\n",
       "[891 rows x 12 columns]>"
      ]
     },
     "execution_count": 8,
     "metadata": {},
     "output_type": "execute_result"
    }
   ],
   "source": [
    "train_data.describe"
   ]
  },
  {
   "cell_type": "code",
   "execution_count": 9,
   "id": "155ea732",
   "metadata": {
    "execution": {
     "iopub.execute_input": "2025-02-27T15:57:20.684893Z",
     "iopub.status.busy": "2025-02-27T15:57:20.684501Z",
     "iopub.status.idle": "2025-02-27T15:57:20.693333Z",
     "shell.execute_reply": "2025-02-27T15:57:20.692272Z"
    },
    "papermill": {
     "duration": 0.019241,
     "end_time": "2025-02-27T15:57:20.695261",
     "exception": false,
     "start_time": "2025-02-27T15:57:20.676020",
     "status": "completed"
    },
    "tags": []
   },
   "outputs": [
    {
     "data": {
      "text/plain": [
       "PassengerId      0\n",
       "Survived         0\n",
       "Pclass           0\n",
       "Name             0\n",
       "Sex              0\n",
       "Age            177\n",
       "SibSp            0\n",
       "Parch            0\n",
       "Ticket           0\n",
       "Fare             0\n",
       "Cabin          687\n",
       "Embarked         2\n",
       "dtype: int64"
      ]
     },
     "execution_count": 9,
     "metadata": {},
     "output_type": "execute_result"
    }
   ],
   "source": [
    "train_data.isna().sum()"
   ]
  },
  {
   "cell_type": "code",
   "execution_count": 10,
   "id": "f0ba6e5b",
   "metadata": {
    "execution": {
     "iopub.execute_input": "2025-02-27T15:57:20.712439Z",
     "iopub.status.busy": "2025-02-27T15:57:20.711987Z",
     "iopub.status.idle": "2025-02-27T15:57:20.719990Z",
     "shell.execute_reply": "2025-02-27T15:57:20.718899Z"
    },
    "papermill": {
     "duration": 0.019673,
     "end_time": "2025-02-27T15:57:20.722401",
     "exception": false,
     "start_time": "2025-02-27T15:57:20.702728",
     "status": "completed"
    },
    "tags": []
   },
   "outputs": [],
   "source": [
    "train_data = train_data[[#'PassengerId', \n",
    "    'Survived', 'Pclass', #'Name', \n",
    "    'Sex', 'Age', 'SibSp',\n",
    "       'Parch', #'Ticket', \n",
    "    'Fare', #'Cabin', \n",
    "    'Embarked']]"
   ]
  },
  {
   "cell_type": "code",
   "execution_count": 11,
   "id": "1d4f1d4e",
   "metadata": {
    "execution": {
     "iopub.execute_input": "2025-02-27T15:57:20.738603Z",
     "iopub.status.busy": "2025-02-27T15:57:20.738184Z",
     "iopub.status.idle": "2025-02-27T15:57:20.744653Z",
     "shell.execute_reply": "2025-02-27T15:57:20.743625Z"
    },
    "papermill": {
     "duration": 0.017251,
     "end_time": "2025-02-27T15:57:20.747062",
     "exception": false,
     "start_time": "2025-02-27T15:57:20.729811",
     "status": "completed"
    },
    "tags": []
   },
   "outputs": [
    {
     "name": "stderr",
     "output_type": "stream",
     "text": [
      "/tmp/ipykernel_17/3342620763.py:1: FutureWarning: A value is trying to be set on a copy of a DataFrame or Series through chained assignment using an inplace method.\n",
      "The behavior will change in pandas 3.0. This inplace method will never work because the intermediate object on which we are setting values always behaves as a copy.\n",
      "\n",
      "For example, when doing 'df[col].method(value, inplace=True)', try using 'df.method({col: value}, inplace=True)' or df[col] = df[col].method(value) instead, to perform the operation inplace on the original object.\n",
      "\n",
      "\n",
      "  train_data['Embarked'].fillna('S', inplace=True)\n",
      "/tmp/ipykernel_17/3342620763.py:1: SettingWithCopyWarning: \n",
      "A value is trying to be set on a copy of a slice from a DataFrame\n",
      "\n",
      "See the caveats in the documentation: https://pandas.pydata.org/pandas-docs/stable/user_guide/indexing.html#returning-a-view-versus-a-copy\n",
      "  train_data['Embarked'].fillna('S', inplace=True)\n"
     ]
    }
   ],
   "source": [
    "train_data['Embarked'].fillna('S', inplace=True)"
   ]
  },
  {
   "cell_type": "code",
   "execution_count": 12,
   "id": "0f727a9f",
   "metadata": {
    "execution": {
     "iopub.execute_input": "2025-02-27T15:57:20.763948Z",
     "iopub.status.busy": "2025-02-27T15:57:20.763596Z",
     "iopub.status.idle": "2025-02-27T15:57:20.784079Z",
     "shell.execute_reply": "2025-02-27T15:57:20.783023Z"
    },
    "papermill": {
     "duration": 0.031722,
     "end_time": "2025-02-27T15:57:20.786434",
     "exception": false,
     "start_time": "2025-02-27T15:57:20.754712",
     "status": "completed"
    },
    "tags": []
   },
   "outputs": [
    {
     "name": "stderr",
     "output_type": "stream",
     "text": [
      "/tmp/ipykernel_17/3325129057.py:2: FutureWarning: A value is trying to be set on a copy of a DataFrame or Series through chained assignment using an inplace method.\n",
      "The behavior will change in pandas 3.0. This inplace method will never work because the intermediate object on which we are setting values always behaves as a copy.\n",
      "\n",
      "For example, when doing 'df[col].method(value, inplace=True)', try using 'df.method({col: value}, inplace=True)' or df[col] = df[col].method(value) instead, to perform the operation inplace on the original object.\n",
      "\n",
      "\n",
      "  test_data['Ticket'].fillna(0, inplace=True)\n"
     ]
    },
    {
     "data": {
      "text/html": [
       "<div>\n",
       "<style scoped>\n",
       "    .dataframe tbody tr th:only-of-type {\n",
       "        vertical-align: middle;\n",
       "    }\n",
       "\n",
       "    .dataframe tbody tr th {\n",
       "        vertical-align: top;\n",
       "    }\n",
       "\n",
       "    .dataframe thead th {\n",
       "        text-align: right;\n",
       "    }\n",
       "</style>\n",
       "<table border=\"1\" class=\"dataframe\">\n",
       "  <thead>\n",
       "    <tr style=\"text-align: right;\">\n",
       "      <th></th>\n",
       "      <th>PassengerId</th>\n",
       "      <th>Pclass</th>\n",
       "      <th>Name</th>\n",
       "      <th>Sex</th>\n",
       "      <th>Age</th>\n",
       "      <th>SibSp</th>\n",
       "      <th>Parch</th>\n",
       "      <th>Ticket</th>\n",
       "      <th>Fare</th>\n",
       "      <th>Cabin</th>\n",
       "      <th>Embarked</th>\n",
       "    </tr>\n",
       "  </thead>\n",
       "  <tbody>\n",
       "    <tr>\n",
       "      <th>12</th>\n",
       "      <td>904</td>\n",
       "      <td>1</td>\n",
       "      <td>Snyder, Mrs. John Pillsbury (Nelle Stevenson)</td>\n",
       "      <td>female</td>\n",
       "      <td>23.0</td>\n",
       "      <td>1</td>\n",
       "      <td>0</td>\n",
       "      <td>21228</td>\n",
       "      <td>82.2667</td>\n",
       "      <td>B45</td>\n",
       "      <td>S</td>\n",
       "    </tr>\n",
       "    <tr>\n",
       "      <th>14</th>\n",
       "      <td>906</td>\n",
       "      <td>1</td>\n",
       "      <td>Chaffee, Mrs. Herbert Fuller (Carrie Constance...</td>\n",
       "      <td>female</td>\n",
       "      <td>47.0</td>\n",
       "      <td>1</td>\n",
       "      <td>0</td>\n",
       "      <td>W.E.P. 5734</td>\n",
       "      <td>61.1750</td>\n",
       "      <td>E31</td>\n",
       "      <td>S</td>\n",
       "    </tr>\n",
       "    <tr>\n",
       "      <th>24</th>\n",
       "      <td>916</td>\n",
       "      <td>1</td>\n",
       "      <td>Ryerson, Mrs. Arthur Larned (Emily Maria Borie)</td>\n",
       "      <td>female</td>\n",
       "      <td>48.0</td>\n",
       "      <td>1</td>\n",
       "      <td>3</td>\n",
       "      <td>PC 17608</td>\n",
       "      <td>262.3750</td>\n",
       "      <td>B57 B59 B63 B66</td>\n",
       "      <td>C</td>\n",
       "    </tr>\n",
       "    <tr>\n",
       "      <th>26</th>\n",
       "      <td>918</td>\n",
       "      <td>1</td>\n",
       "      <td>Ostby, Miss. Helene Ragnhild</td>\n",
       "      <td>female</td>\n",
       "      <td>22.0</td>\n",
       "      <td>0</td>\n",
       "      <td>1</td>\n",
       "      <td>113509</td>\n",
       "      <td>61.9792</td>\n",
       "      <td>B36</td>\n",
       "      <td>C</td>\n",
       "    </tr>\n",
       "    <tr>\n",
       "      <th>28</th>\n",
       "      <td>920</td>\n",
       "      <td>1</td>\n",
       "      <td>Brady, Mr. John Bertram</td>\n",
       "      <td>male</td>\n",
       "      <td>41.0</td>\n",
       "      <td>0</td>\n",
       "      <td>0</td>\n",
       "      <td>113054</td>\n",
       "      <td>30.5000</td>\n",
       "      <td>A21</td>\n",
       "      <td>S</td>\n",
       "    </tr>\n",
       "    <tr>\n",
       "      <th>...</th>\n",
       "      <td>...</td>\n",
       "      <td>...</td>\n",
       "      <td>...</td>\n",
       "      <td>...</td>\n",
       "      <td>...</td>\n",
       "      <td>...</td>\n",
       "      <td>...</td>\n",
       "      <td>...</td>\n",
       "      <td>...</td>\n",
       "      <td>...</td>\n",
       "      <td>...</td>\n",
       "    </tr>\n",
       "    <tr>\n",
       "      <th>404</th>\n",
       "      <td>1296</td>\n",
       "      <td>1</td>\n",
       "      <td>Frauenthal, Mr. Isaac Gerald</td>\n",
       "      <td>male</td>\n",
       "      <td>43.0</td>\n",
       "      <td>1</td>\n",
       "      <td>0</td>\n",
       "      <td>17765</td>\n",
       "      <td>27.7208</td>\n",
       "      <td>D40</td>\n",
       "      <td>C</td>\n",
       "    </tr>\n",
       "    <tr>\n",
       "      <th>405</th>\n",
       "      <td>1297</td>\n",
       "      <td>2</td>\n",
       "      <td>Nourney, Mr. Alfred (Baron von Drachstedt\")\"</td>\n",
       "      <td>male</td>\n",
       "      <td>20.0</td>\n",
       "      <td>0</td>\n",
       "      <td>0</td>\n",
       "      <td>SC/PARIS 2166</td>\n",
       "      <td>13.8625</td>\n",
       "      <td>D38</td>\n",
       "      <td>C</td>\n",
       "    </tr>\n",
       "    <tr>\n",
       "      <th>407</th>\n",
       "      <td>1299</td>\n",
       "      <td>1</td>\n",
       "      <td>Widener, Mr. George Dunton</td>\n",
       "      <td>male</td>\n",
       "      <td>50.0</td>\n",
       "      <td>1</td>\n",
       "      <td>1</td>\n",
       "      <td>113503</td>\n",
       "      <td>211.5000</td>\n",
       "      <td>C80</td>\n",
       "      <td>C</td>\n",
       "    </tr>\n",
       "    <tr>\n",
       "      <th>411</th>\n",
       "      <td>1303</td>\n",
       "      <td>1</td>\n",
       "      <td>Minahan, Mrs. William Edward (Lillian E Thorpe)</td>\n",
       "      <td>female</td>\n",
       "      <td>37.0</td>\n",
       "      <td>1</td>\n",
       "      <td>0</td>\n",
       "      <td>19928</td>\n",
       "      <td>90.0000</td>\n",
       "      <td>C78</td>\n",
       "      <td>Q</td>\n",
       "    </tr>\n",
       "    <tr>\n",
       "      <th>414</th>\n",
       "      <td>1306</td>\n",
       "      <td>1</td>\n",
       "      <td>Oliva y Ocana, Dona. Fermina</td>\n",
       "      <td>female</td>\n",
       "      <td>39.0</td>\n",
       "      <td>0</td>\n",
       "      <td>0</td>\n",
       "      <td>PC 17758</td>\n",
       "      <td>108.9000</td>\n",
       "      <td>C105</td>\n",
       "      <td>C</td>\n",
       "    </tr>\n",
       "  </tbody>\n",
       "</table>\n",
       "<p>87 rows × 11 columns</p>\n",
       "</div>"
      ],
      "text/plain": [
       "     PassengerId  Pclass                                               Name  \\\n",
       "12           904       1      Snyder, Mrs. John Pillsbury (Nelle Stevenson)   \n",
       "14           906       1  Chaffee, Mrs. Herbert Fuller (Carrie Constance...   \n",
       "24           916       1    Ryerson, Mrs. Arthur Larned (Emily Maria Borie)   \n",
       "26           918       1                       Ostby, Miss. Helene Ragnhild   \n",
       "28           920       1                            Brady, Mr. John Bertram   \n",
       "..           ...     ...                                                ...   \n",
       "404         1296       1                       Frauenthal, Mr. Isaac Gerald   \n",
       "405         1297       2       Nourney, Mr. Alfred (Baron von Drachstedt\")\"   \n",
       "407         1299       1                         Widener, Mr. George Dunton   \n",
       "411         1303       1    Minahan, Mrs. William Edward (Lillian E Thorpe)   \n",
       "414         1306       1                       Oliva y Ocana, Dona. Fermina   \n",
       "\n",
       "        Sex   Age  SibSp  Parch         Ticket      Fare            Cabin  \\\n",
       "12   female  23.0      1      0          21228   82.2667              B45   \n",
       "14   female  47.0      1      0    W.E.P. 5734   61.1750              E31   \n",
       "24   female  48.0      1      3       PC 17608  262.3750  B57 B59 B63 B66   \n",
       "26   female  22.0      0      1         113509   61.9792              B36   \n",
       "28     male  41.0      0      0         113054   30.5000              A21   \n",
       "..      ...   ...    ...    ...            ...       ...              ...   \n",
       "404    male  43.0      1      0          17765   27.7208              D40   \n",
       "405    male  20.0      0      0  SC/PARIS 2166   13.8625              D38   \n",
       "407    male  50.0      1      1         113503  211.5000              C80   \n",
       "411  female  37.0      1      0          19928   90.0000              C78   \n",
       "414  female  39.0      0      0       PC 17758  108.9000             C105   \n",
       "\n",
       "    Embarked  \n",
       "12         S  \n",
       "14         S  \n",
       "24         C  \n",
       "26         C  \n",
       "28         S  \n",
       "..       ...  \n",
       "404        C  \n",
       "405        C  \n",
       "407        C  \n",
       "411        Q  \n",
       "414        C  \n",
       "\n",
       "[87 rows x 11 columns]"
      ]
     },
     "execution_count": 12,
     "metadata": {},
     "output_type": "execute_result"
    }
   ],
   "source": [
    "test_data.isna().sum()\n",
    "test_data['Ticket'].fillna(0, inplace=True)\n",
    "test_data.dropna(subset=['Cabin', 'Age'])"
   ]
  },
  {
   "cell_type": "code",
   "execution_count": 13,
   "id": "06d76355",
   "metadata": {
    "execution": {
     "iopub.execute_input": "2025-02-27T15:57:20.803947Z",
     "iopub.status.busy": "2025-02-27T15:57:20.803602Z",
     "iopub.status.idle": "2025-02-27T15:57:21.080957Z",
     "shell.execute_reply": "2025-02-27T15:57:21.079757Z"
    },
    "papermill": {
     "duration": 0.28902,
     "end_time": "2025-02-27T15:57:21.083383",
     "exception": false,
     "start_time": "2025-02-27T15:57:20.794363",
     "status": "completed"
    },
    "tags": []
   },
   "outputs": [
    {
     "data": {
      "text/plain": [
       "<Axes: xlabel='Embarked'>"
      ]
     },
     "execution_count": 13,
     "metadata": {},
     "output_type": "execute_result"
    },
    {
     "data": {
      "image/png": "[encoded data removed]",
      "text/plain": [
       "<Figure size 640x480 with 1 Axes>"
      ]
     },
     "metadata": {},
     "output_type": "display_data"
    }
   ],
   "source": [
    "train_data=pd.get_dummies(train_data, columns = ['Sex'], drop_first=True)\n",
    "test_data=pd.get_dummies(test_data, columns = ['Sex'], drop_first=True)\n",
    "embarked = train_data['Embarked'].copy()\n",
    "train_data=pd.get_dummies(train_data, columns = ['Embarked'], drop_first=False)\n",
    "test_data=pd.get_dummies(test_data, columns = ['Embarked'], drop_first=False)\n",
    "embarked.value_counts().plot(kind='bar')\n"
   ]
  },
  {
   "cell_type": "code",
   "execution_count": 14,
   "id": "8f6e9aff",
   "metadata": {
    "execution": {
     "iopub.execute_input": "2025-02-27T15:57:21.101997Z",
     "iopub.status.busy": "2025-02-27T15:57:21.101634Z",
     "iopub.status.idle": "2025-02-27T15:57:21.113381Z",
     "shell.execute_reply": "2025-02-27T15:57:21.112143Z"
    },
    "papermill": {
     "duration": 0.023788,
     "end_time": "2025-02-27T15:57:21.115669",
     "exception": false,
     "start_time": "2025-02-27T15:57:21.091881",
     "status": "completed"
    },
    "tags": []
   },
   "outputs": [
    {
     "name": "stdout",
     "output_type": "stream",
     "text": [
      "29.69911764705882\n",
      "14.526497332334042\n",
      "28.0\n",
      "0    24.0\n",
      "Name: Age, dtype: float64\n"
     ]
    }
   ],
   "source": [
    "print(train_data['Age'].mean())\n",
    "print(train_data['Age'].std())\n",
    "print(train_data['Age'].median())\n",
    "print(train_data['Age'].mode())\n"
   ]
  },
  {
   "cell_type": "code",
   "execution_count": 15,
   "id": "037112b8",
   "metadata": {
    "execution": {
     "iopub.execute_input": "2025-02-27T15:57:21.134139Z",
     "iopub.status.busy": "2025-02-27T15:57:21.133733Z",
     "iopub.status.idle": "2025-02-27T15:57:21.400424Z",
     "shell.execute_reply": "2025-02-27T15:57:21.398999Z"
    },
    "papermill": {
     "duration": 0.278584,
     "end_time": "2025-02-27T15:57:21.402807",
     "exception": false,
     "start_time": "2025-02-27T15:57:21.124223",
     "status": "completed"
    },
    "tags": []
   },
   "outputs": [
    {
     "data": {
      "image/png": "[encoded data removed]",
      "text/plain": [
       "<Figure size 640x480 with 1 Axes>"
      ]
     },
     "metadata": {},
     "output_type": "display_data"
    }
   ],
   "source": [
    "age = train_data['Age'].value_counts().head(10).plot(kind='bar')"
   ]
  },
  {
   "cell_type": "code",
   "execution_count": 16,
   "id": "ef8f9b4d",
   "metadata": {
    "execution": {
     "iopub.execute_input": "2025-02-27T15:57:21.422677Z",
     "iopub.status.busy": "2025-02-27T15:57:21.422244Z",
     "iopub.status.idle": "2025-02-27T15:57:21.427004Z",
     "shell.execute_reply": "2025-02-27T15:57:21.425913Z"
    },
    "papermill": {
     "duration": 0.017385,
     "end_time": "2025-02-27T15:57:21.429248",
     "exception": false,
     "start_time": "2025-02-27T15:57:21.411863",
     "status": "completed"
    },
    "tags": []
   },
   "outputs": [],
   "source": [
    "#train_data['Age'].fillna(train_data['Age'].mean(), inplace=True)\n",
    "#train_data"
   ]
  },
  {
   "cell_type": "code",
   "execution_count": 17,
   "id": "fd9ff892",
   "metadata": {
    "execution": {
     "iopub.execute_input": "2025-02-27T15:57:21.448516Z",
     "iopub.status.busy": "2025-02-27T15:57:21.448138Z",
     "iopub.status.idle": "2025-02-27T15:57:21.613980Z",
     "shell.execute_reply": "2025-02-27T15:57:21.612849Z"
    },
    "papermill": {
     "duration": 0.178202,
     "end_time": "2025-02-27T15:57:21.616116",
     "exception": false,
     "start_time": "2025-02-27T15:57:21.437914",
     "status": "completed"
    },
    "tags": []
   },
   "outputs": [
    {
     "data": {
      "image/png": "[encoded data removed]",
      "text/plain": [
       "<Figure size 640x480 with 1 Axes>"
      ]
     },
     "metadata": {},
     "output_type": "display_data"
    }
   ],
   "source": [
    "sex = train_data['Sex_male'].value_counts().plot(kind='bar')"
   ]
  },
  {
   "cell_type": "code",
   "execution_count": 18,
   "id": "e80531db",
   "metadata": {
    "execution": {
     "iopub.execute_input": "2025-02-27T15:57:21.635245Z",
     "iopub.status.busy": "2025-02-27T15:57:21.634847Z",
     "iopub.status.idle": "2025-02-27T15:57:21.858950Z",
     "shell.execute_reply": "2025-02-27T15:57:21.856902Z"
    },
    "papermill": {
     "duration": 0.237893,
     "end_time": "2025-02-27T15:57:21.862798",
     "exception": false,
     "start_time": "2025-02-27T15:57:21.624905",
     "status": "completed"
    },
    "tags": []
   },
   "outputs": [
    {
     "name": "stdout",
     "output_type": "stream",
     "text": [
      "Survived\n",
      "0    549\n",
      "1    342\n",
      "Name: count, dtype: int64\n"
     ]
    },
    {
     "data": {
      "image/png": "[encoded data removed]",
      "text/plain": [
       "<Figure size 640x480 with 1 Axes>"
      ]
     },
     "metadata": {},
     "output_type": "display_data"
    }
   ],
   "source": [
    "survival = train_data['Survived'].value_counts().plot(kind='bar')\n",
    "print(train_data['Survived'].value_counts())"
   ]
  },
  {
   "cell_type": "code",
   "execution_count": 19,
   "id": "8c511dcd",
   "metadata": {
    "execution": {
     "iopub.execute_input": "2025-02-27T15:57:21.888757Z",
     "iopub.status.busy": "2025-02-27T15:57:21.888164Z",
     "iopub.status.idle": "2025-02-27T15:57:22.127736Z",
     "shell.execute_reply": "2025-02-27T15:57:22.126423Z"
    },
    "papermill": {
     "duration": 0.255225,
     "end_time": "2025-02-27T15:57:22.129964",
     "exception": false,
     "start_time": "2025-02-27T15:57:21.874739",
     "status": "completed"
    },
    "tags": []
   },
   "outputs": [
    {
     "data": {
      "image/png": "[encoded data removed]",
      "text/plain": [
       "<Figure size 640x480 with 1 Axes>"
      ]
     },
     "metadata": {},
     "output_type": "display_data"
    }
   ],
   "source": [
    "sibsp = train_data['SibSp'].value_counts().plot(kind='bar')"
   ]
  },
  {
   "cell_type": "code",
   "execution_count": 20,
   "id": "157ba999",
   "metadata": {
    "execution": {
     "iopub.execute_input": "2025-02-27T15:57:22.150240Z",
     "iopub.status.busy": "2025-02-27T15:57:22.149860Z",
     "iopub.status.idle": "2025-02-27T15:57:22.327442Z",
     "shell.execute_reply": "2025-02-27T15:57:22.326352Z"
    },
    "papermill": {
     "duration": 0.190174,
     "end_time": "2025-02-27T15:57:22.329564",
     "exception": false,
     "start_time": "2025-02-27T15:57:22.139390",
     "status": "completed"
    },
    "tags": []
   },
   "outputs": [
    {
     "data": {
      "image/png": "[encoded data removed]",
      "text/plain": [
       "<Figure size 640x480 with 1 Axes>"
      ]
     },
     "metadata": {},
     "output_type": "display_data"
    }
   ],
   "source": [
    "parch = train_data['Parch'].value_counts().plot(kind='bar')"
   ]
  },
  {
   "cell_type": "code",
   "execution_count": 21,
   "id": "769e2302",
   "metadata": {
    "execution": {
     "iopub.execute_input": "2025-02-27T15:57:22.350178Z",
     "iopub.status.busy": "2025-02-27T15:57:22.349785Z",
     "iopub.status.idle": "2025-02-27T15:57:22.616609Z",
     "shell.execute_reply": "2025-02-27T15:57:22.615296Z"
    },
    "papermill": {
     "duration": 0.280252,
     "end_time": "2025-02-27T15:57:22.619232",
     "exception": false,
     "start_time": "2025-02-27T15:57:22.338980",
     "status": "completed"
    },
    "tags": []
   },
   "outputs": [
    {
     "data": {
      "image/png": "[encoded data removed]",
      "text/plain": [
       "<Figure size 640x480 with 1 Axes>"
      ]
     },
     "metadata": {},
     "output_type": "display_data"
    }
   ],
   "source": [
    "passenger_fare = train_data['Fare'].value_counts().head(10).plot(kind='bar')"
   ]
  },
  {
   "cell_type": "code",
   "execution_count": 22,
   "id": "b151efc8",
   "metadata": {
    "execution": {
     "iopub.execute_input": "2025-02-27T15:57:22.642784Z",
     "iopub.status.busy": "2025-02-27T15:57:22.642291Z",
     "iopub.status.idle": "2025-02-27T15:57:22.845175Z",
     "shell.execute_reply": "2025-02-27T15:57:22.844095Z"
    },
    "papermill": {
     "duration": 0.217517,
     "end_time": "2025-02-27T15:57:22.847895",
     "exception": false,
     "start_time": "2025-02-27T15:57:22.630378",
     "status": "completed"
    },
    "tags": []
   },
   "outputs": [
    {
     "data": {
      "image/png": "[encoded data removed]",
      "text/plain": [
       "<Figure size 640x480 with 1 Axes>"
      ]
     },
     "metadata": {},
     "output_type": "display_data"
    }
   ],
   "source": [
    "embarked = train_data['Pclass'].value_counts().head(10).plot(kind='bar') "
   ]
  },
  {
   "cell_type": "code",
   "execution_count": 23,
   "id": "5a13fb6b",
   "metadata": {
    "execution": {
     "iopub.execute_input": "2025-02-27T15:57:22.878997Z",
     "iopub.status.busy": "2025-02-27T15:57:22.878478Z",
     "iopub.status.idle": "2025-02-27T15:57:22.886377Z",
     "shell.execute_reply": "2025-02-27T15:57:22.885265Z"
    },
    "papermill": {
     "duration": 0.023143,
     "end_time": "2025-02-27T15:57:22.888919",
     "exception": false,
     "start_time": "2025-02-27T15:57:22.865776",
     "status": "completed"
    },
    "tags": []
   },
   "outputs": [
    {
     "data": {
      "text/plain": [
       "<Axes: xlabel='Pclass'>"
      ]
     },
     "execution_count": 23,
     "metadata": {},
     "output_type": "execute_result"
    }
   ],
   "source": [
    "embarked"
   ]
  },
  {
   "cell_type": "code",
   "execution_count": 24,
   "id": "82b93f52",
   "metadata": {
    "execution": {
     "iopub.execute_input": "2025-02-27T15:57:22.917319Z",
     "iopub.status.busy": "2025-02-27T15:57:22.916774Z",
     "iopub.status.idle": "2025-02-27T15:57:22.935589Z",
     "shell.execute_reply": "2025-02-27T15:57:22.934379Z"
    },
    "papermill": {
     "duration": 0.033511,
     "end_time": "2025-02-27T15:57:22.938155",
     "exception": false,
     "start_time": "2025-02-27T15:57:22.904644",
     "status": "completed"
    },
    "tags": []
   },
   "outputs": [
    {
     "data": {
      "text/html": [
       "<div>\n",
       "<style scoped>\n",
       "    .dataframe tbody tr th:only-of-type {\n",
       "        vertical-align: middle;\n",
       "    }\n",
       "\n",
       "    .dataframe tbody tr th {\n",
       "        vertical-align: top;\n",
       "    }\n",
       "\n",
       "    .dataframe thead th {\n",
       "        text-align: right;\n",
       "    }\n",
       "</style>\n",
       "<table border=\"1\" class=\"dataframe\">\n",
       "  <thead>\n",
       "    <tr style=\"text-align: right;\">\n",
       "      <th></th>\n",
       "      <th>Age</th>\n",
       "      <th>SibSp</th>\n",
       "      <th>Parch</th>\n",
       "      <th>Fare</th>\n",
       "    </tr>\n",
       "  </thead>\n",
       "  <tbody>\n",
       "    <tr>\n",
       "      <th>Age</th>\n",
       "      <td>1.000000</td>\n",
       "      <td>-0.308247</td>\n",
       "      <td>-0.189119</td>\n",
       "      <td>0.096067</td>\n",
       "    </tr>\n",
       "    <tr>\n",
       "      <th>SibSp</th>\n",
       "      <td>-0.308247</td>\n",
       "      <td>1.000000</td>\n",
       "      <td>0.383820</td>\n",
       "      <td>0.138329</td>\n",
       "    </tr>\n",
       "    <tr>\n",
       "      <th>Parch</th>\n",
       "      <td>-0.189119</td>\n",
       "      <td>0.383820</td>\n",
       "      <td>1.000000</td>\n",
       "      <td>0.205119</td>\n",
       "    </tr>\n",
       "    <tr>\n",
       "      <th>Fare</th>\n",
       "      <td>0.096067</td>\n",
       "      <td>0.138329</td>\n",
       "      <td>0.205119</td>\n",
       "      <td>1.000000</td>\n",
       "    </tr>\n",
       "  </tbody>\n",
       "</table>\n",
       "</div>"
      ],
      "text/plain": [
       "            Age     SibSp     Parch      Fare\n",
       "Age    1.000000 -0.308247 -0.189119  0.096067\n",
       "SibSp -0.308247  1.000000  0.383820  0.138329\n",
       "Parch -0.189119  0.383820  1.000000  0.205119\n",
       "Fare   0.096067  0.138329  0.205119  1.000000"
      ]
     },
     "execution_count": 24,
     "metadata": {},
     "output_type": "execute_result"
    }
   ],
   "source": [
    "df_corr = train_data[[#'PassengerId',\n",
    "    #'Survived', 'Pclass', #'Name',\n",
    "    #'Sex', \n",
    "    'Age', 'SibSp',\n",
    "       'Parch', #'Ticket', \n",
    "    'Fare', #'Cabin', \n",
    "    #'Embarked_S',\n",
    "    #'Embarked_Q',\n",
    "    #'Embarked_C'\n",
    "]].dropna().corr(method='pearson')\n",
    "df_corr"
   ]
  },
  {
   "cell_type": "markdown",
   "id": "0de5f8e4",
   "metadata": {
    "papermill": {
     "duration": 0.010604,
     "end_time": "2025-02-27T15:57:22.959899",
     "exception": false,
     "start_time": "2025-02-27T15:57:22.949295",
     "status": "completed"
    },
    "tags": []
   },
   "source": [
    "its not good to use categorical data in pearson's correlation\n",
    "\n",
    "so ill try to find another way to correlate these data"
   ]
  },
  {
   "cell_type": "code",
   "execution_count": 25,
   "id": "5dc7ff8b",
   "metadata": {
    "execution": {
     "iopub.execute_input": "2025-02-27T15:57:22.983501Z",
     "iopub.status.busy": "2025-02-27T15:57:22.982939Z",
     "iopub.status.idle": "2025-02-27T15:57:22.994154Z",
     "shell.execute_reply": "2025-02-27T15:57:22.992929Z"
    },
    "papermill": {
     "duration": 0.026057,
     "end_time": "2025-02-27T15:57:22.996619",
     "exception": false,
     "start_time": "2025-02-27T15:57:22.970562",
     "status": "completed"
    },
    "tags": []
   },
   "outputs": [
    {
     "name": "stdout",
     "output_type": "stream",
     "text": [
      "     Survived  Embarked_S\n",
      "0           0        True\n",
      "1           1       False\n",
      "2           1        True\n",
      "3           1        True\n",
      "4           0        True\n",
      "..        ...         ...\n",
      "886         0        True\n",
      "887         1        True\n",
      "888         0        True\n",
      "889         1       False\n",
      "890         0       False\n",
      "\n",
      "[891 rows x 2 columns]\n"
     ]
    }
   ],
   "source": [
    "print(train_data[['Survived', 'Embarked_S']])"
   ]
  },
  {
   "cell_type": "code",
   "execution_count": 26,
   "id": "12e80c3d",
   "metadata": {
    "execution": {
     "iopub.execute_input": "2025-02-27T15:57:23.027954Z",
     "iopub.status.busy": "2025-02-27T15:57:23.027570Z",
     "iopub.status.idle": "2025-02-27T15:57:23.039566Z",
     "shell.execute_reply": "2025-02-27T15:57:23.038280Z"
    },
    "papermill": {
     "duration": 0.033434,
     "end_time": "2025-02-27T15:57:23.041879",
     "exception": false,
     "start_time": "2025-02-27T15:57:23.008445",
     "status": "completed"
    },
    "tags": []
   },
   "outputs": [
    {
     "data": {
      "text/plain": [
       "0.5157241041177254"
      ]
     },
     "execution_count": 26,
     "metadata": {},
     "output_type": "execute_result"
    }
   ],
   "source": [
    "sur_pclass=association(train_data[['Survived', 'Pclass']], method='cramer')\n",
    "sur_pclass"
   ]
  },
  {
   "cell_type": "code",
   "execution_count": 27,
   "id": "836a0e0f",
   "metadata": {
    "execution": {
     "iopub.execute_input": "2025-02-27T15:57:23.066015Z",
     "iopub.status.busy": "2025-02-27T15:57:23.065626Z",
     "iopub.status.idle": "2025-02-27T15:57:23.073958Z",
     "shell.execute_reply": "2025-02-27T15:57:23.073125Z"
    },
    "papermill": {
     "duration": 0.022915,
     "end_time": "2025-02-27T15:57:23.076069",
     "exception": false,
     "start_time": "2025-02-27T15:57:23.053154",
     "status": "completed"
    },
    "tags": []
   },
   "outputs": [],
   "source": [
    "\n",
    "train_data.dropna(inplace=True)\n",
    "test_data.dropna(inplace=True)\n"
   ]
  },
  {
   "cell_type": "code",
   "execution_count": 28,
   "id": "9a72961f",
   "metadata": {
    "execution": {
     "iopub.execute_input": "2025-02-27T15:57:23.109512Z",
     "iopub.status.busy": "2025-02-27T15:57:23.109041Z",
     "iopub.status.idle": "2025-02-27T15:57:23.121481Z",
     "shell.execute_reply": "2025-02-27T15:57:23.120133Z"
    },
    "papermill": {
     "duration": 0.033341,
     "end_time": "2025-02-27T15:57:23.124346",
     "exception": false,
     "start_time": "2025-02-27T15:57:23.091005",
     "status": "completed"
    },
    "tags": []
   },
   "outputs": [
    {
     "data": {
      "text/plain": [
       "Pclass        0\n",
       "Age           0\n",
       "SibSp         0\n",
       "Parch         0\n",
       "Fare          0\n",
       "Sex_male      0\n",
       "Embarked_C    0\n",
       "Embarked_Q    0\n",
       "Embarked_S    0\n",
       "dtype: int64"
      ]
     },
     "execution_count": 28,
     "metadata": {},
     "output_type": "execute_result"
    }
   ],
   "source": [
    "#select and drop\n",
    "y_train = train_data['Survived']\n",
    "x_train = train_data.drop(columns=['Survived'])\n",
    "x_test = test_data.drop(columns=['Name', 'PassengerId', 'Ticket', 'Cabin'])\n",
    "x_train.isna().sum()"
   ]
  },
  {
   "cell_type": "code",
   "execution_count": 29,
   "id": "24062082",
   "metadata": {
    "execution": {
     "iopub.execute_input": "2025-02-27T15:57:23.149117Z",
     "iopub.status.busy": "2025-02-27T15:57:23.148704Z",
     "iopub.status.idle": "2025-02-27T15:57:23.364097Z",
     "shell.execute_reply": "2025-02-27T15:57:23.362924Z"
    },
    "papermill": {
     "duration": 0.229716,
     "end_time": "2025-02-27T15:57:23.366390",
     "exception": false,
     "start_time": "2025-02-27T15:57:23.136674",
     "status": "completed"
    },
    "tags": []
   },
   "outputs": [
    {
     "name": "stdout",
     "output_type": "stream",
     "text": [
      "0      0\n",
      "1      1\n",
      "2      1\n",
      "3      1\n",
      "4      0\n",
      "      ..\n",
      "885    0\n",
      "886    0\n",
      "887    1\n",
      "889    1\n",
      "890    0\n",
      "Name: Survived, Length: 714, dtype: int64\n"
     ]
    }
   ],
   "source": [
    "# now we fit\n",
    "rf = RandomForestClassifier()\n",
    "rf.fit(x_train, y_train)\n",
    "print(y_train)"
   ]
  },
  {
   "cell_type": "code",
   "execution_count": 30,
   "id": "fd77d3ea",
   "metadata": {
    "execution": {
     "iopub.execute_input": "2025-02-27T15:57:23.390086Z",
     "iopub.status.busy": "2025-02-27T15:57:23.389599Z",
     "iopub.status.idle": "2025-02-27T15:57:23.420070Z",
     "shell.execute_reply": "2025-02-27T15:57:23.418899Z"
    },
    "papermill": {
     "duration": 0.04564,
     "end_time": "2025-02-27T15:57:23.422608",
     "exception": false,
     "start_time": "2025-02-27T15:57:23.376968",
     "status": "completed"
    },
    "tags": []
   },
   "outputs": [
    {
     "name": "stdout",
     "output_type": "stream",
     "text": [
      "     PassengerId  Survived\n",
      "12           904         1\n",
      "14           906         1\n",
      "24           916         1\n",
      "26           918         1\n",
      "28           920         1\n",
      "..           ...       ...\n",
      "404         1296         0\n",
      "405         1297         0\n",
      "407         1299         0\n",
      "411         1303         1\n",
      "414         1306         1\n",
      "\n",
      "[87 rows x 2 columns]\n"
     ]
    }
   ],
   "source": [
    "# predict\n",
    "y_pred = rf.predict(x_test)\n",
    "output_train_data = pd.DataFrame()\n",
    "output_train_data['PassengerId'] = test_data['PassengerId']\n",
    "output_train_data['Survived'] = y_pred\n",
    "print(output_train_data)\n",
    "\n",
    "\n",
    "output_train_data.to_csv(\"/kaggle/working/submission.csv\", index=False)\n"
   ]
  }
 ],
 "metadata": {
  "kaggle": {
   "accelerator": "none",
   "dataSources": [
    {
     "databundleVersionId": 26502,
     "sourceId": 3136,
     "sourceType": "competition"
    }
   ],
   "dockerImageVersionId": 30786,
   "isGpuEnabled": false,
   "isInternetEnabled": false,
   "language": "python",
   "sourceType": "notebook"
  },
  "kernelspec": {
   "display_name": "Python 3",
   "language": "python",
   "name": "python3"
  },
  "language_info": {
   "codemirror_mode": {
    "name": "ipython",
    "version": 3
   },
   "file_extension": ".py",
   "mimetype": "text/x-python",
   "name": "python",
   "nbconvert_exporter": "python",
   "pygments_lexer": "ipython3",
   "version": "3.10.14"
  },
  "papermill": {
   "default_parameters": {},
   "duration": 9.845595,
   "end_time": "2025-02-27T15:57:24.056037",
   "environment_variables": {},
   "exception": null,
   "input_path": "__notebook__.ipynb",
   "output_path": "__notebook__.ipynb",
   "parameters": {},
   "start_time": "2025-02-27T15:57:14.210442",
   "version": "2.6.0"
  }
 },
 "nbformat": 4,
 "nbformat_minor": 5
}
